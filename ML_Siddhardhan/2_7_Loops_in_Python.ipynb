{
  "nbformat": 4,
  "nbformat_minor": 0,
  "metadata": {
    "colab": {
      "provenance": []
    },
    "kernelspec": {
      "name": "python3",
      "display_name": "Python 3"
    },
    "language_info": {
      "name": "python"
    }
  },
  "cells": [
    {
      "cell_type": "markdown",
      "source": [
        "For loop"
      ],
      "metadata": {
        "id": "_rpHK1GQ8CBf"
      }
    },
    {
      "cell_type": "code",
      "execution_count": 2,
      "metadata": {
        "colab": {
          "base_uri": "https://localhost:8080/"
        },
        "id": "Vqkja8tPdh7l",
        "outputId": "56896dfc-2905-4687-aca0-9eb68638fd09"
      },
      "outputs": [
        {
          "name": "stdout",
          "output_type": "stream",
          "text": [
            "Enter price of laptop :2000\n",
            "Enter price of laptop :3000\n",
            "Enter price of laptop :4000\n",
            "Enter price of laptop :5000\n",
            "Enter price of laptop :6000\n"
          ]
        }
      ],
      "source": [
        "laptop1 = int(input(\"Enter price of laptop :\"))\n",
        "laptop2 = int(input(\"Enter price of laptop :\"))\n",
        "laptop3 = int(input(\"Enter price of laptop :\"))\n",
        "laptop4 = int(input(\"Enter price of laptop :\"))\n",
        "laptop5 = int(input(\"Enter price of laptop :\"))"
      ]
    },
    {
      "cell_type": "code",
      "source": [
        "for i in range(5): #0,1,2,3,4\n",
        "  laptop_price = int(input(\"Enter price of laptop :\"))"
      ],
      "metadata": {
        "colab": {
          "base_uri": "https://localhost:8080/"
        },
        "id": "QWA4-oKF8L47",
        "outputId": "2c4b592b-23a2-4581-a32a-3c8fcd706495"
      },
      "execution_count": 3,
      "outputs": [
        {
          "name": "stdout",
          "output_type": "stream",
          "text": [
            "Enter price of laptop :200\n",
            "Enter price of laptop :499\n",
            "Enter price of laptop :500\n",
            "Enter price of laptop :555\n",
            "Enter price of laptop :900\n"
          ]
        }
      ]
    },
    {
      "cell_type": "code",
      "source": [
        "num = [1,2,3,4,5]\n",
        "\n",
        "print(num[0])\n",
        "print(num[1])\n",
        "print(num[2])\n",
        "print(num[3])\n",
        "print(num[4])\n"
      ],
      "metadata": {
        "colab": {
          "base_uri": "https://localhost:8080/"
        },
        "id": "lZbrbEjT80sP",
        "outputId": "7d49a410-6814-465f-baa2-40580b0a5b6e"
      },
      "execution_count": 5,
      "outputs": [
        {
          "output_type": "stream",
          "name": "stdout",
          "text": [
            "1\n",
            "2\n",
            "3\n",
            "4\n",
            "5\n"
          ]
        }
      ]
    },
    {
      "cell_type": "code",
      "source": [
        "for i in num:\n",
        "  print(i)"
      ],
      "metadata": {
        "colab": {
          "base_uri": "https://localhost:8080/"
        },
        "id": "zpdErD409TF1",
        "outputId": "f2df74e0-4213-494f-a621-37cdb1988839"
      },
      "execution_count": 6,
      "outputs": [
        {
          "output_type": "stream",
          "name": "stdout",
          "text": [
            "1\n",
            "2\n",
            "3\n",
            "4\n",
            "5\n"
          ]
        }
      ]
    },
    {
      "cell_type": "markdown",
      "source": [
        "While Loop\n",
        "\n",
        "while condition:\n",
        "\n",
        "    statement"
      ],
      "metadata": {
        "id": "_nODLusX9kBQ"
      }
    },
    {
      "cell_type": "code",
      "source": [
        "i = 0\n",
        "while i < 10:\n",
        "  print(i)\n",
        "  i += 1"
      ],
      "metadata": {
        "colab": {
          "base_uri": "https://localhost:8080/"
        },
        "id": "RweX6JrQ9dje",
        "outputId": "e839d34d-93c2-4aaf-faa0-0a316ac4a102"
      },
      "execution_count": 7,
      "outputs": [
        {
          "output_type": "stream",
          "name": "stdout",
          "text": [
            "0\n",
            "1\n",
            "2\n",
            "3\n",
            "4\n",
            "5\n",
            "6\n",
            "7\n",
            "8\n",
            "9\n"
          ]
        }
      ]
    },
    {
      "cell_type": "code",
      "source": [
        "i = 5\n",
        "while i < 3:\n",
        "  print(i)\n",
        "  i += 1"
      ],
      "metadata": {
        "id": "ZtZ2u29090sI"
      },
      "execution_count": 8,
      "outputs": []
    },
    {
      "cell_type": "code",
      "source": [],
      "metadata": {
        "id": "R6DaNrA6-BA1"
      },
      "execution_count": null,
      "outputs": []
    }
  ]
}