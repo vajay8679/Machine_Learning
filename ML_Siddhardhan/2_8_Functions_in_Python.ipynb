{
  "nbformat": 4,
  "nbformat_minor": 0,
  "metadata": {
    "colab": {
      "provenance": []
    },
    "kernelspec": {
      "name": "python3",
      "display_name": "Python 3"
    },
    "language_info": {
      "name": "python"
    }
  },
  "cells": [
    {
      "cell_type": "markdown",
      "source": [
        "Functions:\n",
        "\n",
        "Function is a block of code that can be reused in a python"
      ],
      "metadata": {
        "id": "3o8_SOjL-lD-"
      }
    },
    {
      "cell_type": "markdown",
      "source": [
        "Factorial of number\n",
        "\n",
        "factorial of a number is a prodcut of all positive integers less than or equal to given number\n",
        "\n",
        "\n",
        "factorial of 5 =  5 X 4 X 3 X 2 X 1 = 120"
      ],
      "metadata": {
        "id": "E70hanEp-wU6"
      }
    },
    {
      "cell_type": "code",
      "execution_count": 1,
      "metadata": {
        "colab": {
          "base_uri": "https://localhost:8080/"
        },
        "id": "IA7NS9cSbVz9",
        "outputId": "89be9971-90dc-4ffa-84ed-2505ce1117c0"
      },
      "outputs": [
        {
          "output_type": "stream",
          "name": "stdout",
          "text": [
            "Enter a number to find its factorial :5\n",
            "Factorial of num 5 is  120\n"
          ]
        }
      ],
      "source": [
        "from os import fpathconf\n",
        "num = int(input(\"Enter a number to find its factorial :\"))\n",
        "\n",
        "factorial = 1\n",
        "\n",
        "if num == 0:\n",
        "  print('Factorial of 0 is 1')\n",
        "else:\n",
        "  for i in range(1,num+1):\n",
        "    factorial = factorial*i\n",
        "  print('Factorial of num',num , 'is ',factorial)\n"
      ]
    },
    {
      "cell_type": "markdown",
      "source": [
        "Factorial Function"
      ],
      "metadata": {
        "id": "mOSsSE5oAuPZ"
      }
    },
    {
      "cell_type": "code",
      "source": [
        "def factorial_value(num):\n",
        "  factorial = 1\n",
        "\n",
        "  if factorial == 0:\n",
        "    return factorial\n",
        "  else:\n",
        "    for i in range(1,num+1):\n",
        "      factorial = factorial*i\n",
        "    return factorial"
      ],
      "metadata": {
        "id": "x_e_oQ42baRk"
      },
      "execution_count": 2,
      "outputs": []
    },
    {
      "cell_type": "code",
      "source": [
        "factorial_value(5)"
      ],
      "metadata": {
        "colab": {
          "base_uri": "https://localhost:8080/"
        },
        "id": "YF-dCvEeBRLb",
        "outputId": "8b31ea48-0fd2-456f-ea2f-444912b42a19"
      },
      "execution_count": 3,
      "outputs": [
        {
          "output_type": "execute_result",
          "data": {
            "text/plain": [
              "120"
            ]
          },
          "metadata": {},
          "execution_count": 3
        }
      ]
    },
    {
      "cell_type": "code",
      "source": [
        "factorial_value(10)"
      ],
      "metadata": {
        "colab": {
          "base_uri": "https://localhost:8080/"
        },
        "id": "1T2atp_yBSmn",
        "outputId": "3aaf89b6-60f4-4918-d174-ab5c0e5fe321"
      },
      "execution_count": 4,
      "outputs": [
        {
          "output_type": "execute_result",
          "data": {
            "text/plain": [
              "3628800"
            ]
          },
          "metadata": {},
          "execution_count": 4
        }
      ]
    },
    {
      "cell_type": "code",
      "source": [],
      "metadata": {
        "id": "1ZjItGkVBgp5"
      },
      "execution_count": null,
      "outputs": []
    }
  ]
}