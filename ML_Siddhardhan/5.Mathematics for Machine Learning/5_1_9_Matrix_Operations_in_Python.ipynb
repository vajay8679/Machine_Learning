{
  "nbformat": 4,
  "nbformat_minor": 0,
  "metadata": {
    "colab": {
      "provenance": []
    },
    "kernelspec": {
      "name": "python3",
      "display_name": "Python 3"
    },
    "language_info": {
      "name": "python"
    }
  },
  "cells": [
    {
      "cell_type": "markdown",
      "source": [
        "Importing Numpy Library"
      ],
      "metadata": {
        "id": "2QFm2bmlfFe-"
      }
    },
    {
      "cell_type": "code",
      "execution_count": 1,
      "metadata": {
        "id": "dOrJ9qeld1aX"
      },
      "outputs": [],
      "source": [
        "import numpy as np"
      ]
    },
    {
      "cell_type": "markdown",
      "source": [
        "**Matrix Addition**"
      ],
      "metadata": {
        "id": "kX99pJ00fOCj"
      }
    },
    {
      "cell_type": "markdown",
      "source": [
        "Two Matrices can be added only if they have the same shape"
      ],
      "metadata": {
        "id": "LXIG0oNOfSks"
      }
    },
    {
      "cell_type": "code",
      "source": [
        "# creating two matrices\n",
        "A = np.array([[2,3],[4,5]])\n",
        "B = np.array([[6,7],[8,9]])\n"
      ],
      "metadata": {
        "id": "WDVUBU0ZfMPR"
      },
      "execution_count": 2,
      "outputs": []
    },
    {
      "cell_type": "code",
      "source": [
        "print(A)"
      ],
      "metadata": {
        "colab": {
          "base_uri": "https://localhost:8080/"
        },
        "id": "Bf7lUl_Sfoz5",
        "outputId": "7fd4c759-3225-42a1-a0a6-0a3e4b9353ab"
      },
      "execution_count": 3,
      "outputs": [
        {
          "output_type": "stream",
          "name": "stdout",
          "text": [
            "[[2 3]\n",
            " [4 5]]\n"
          ]
        }
      ]
    },
    {
      "cell_type": "code",
      "source": [
        "print(B)"
      ],
      "metadata": {
        "colab": {
          "base_uri": "https://localhost:8080/"
        },
        "id": "gCwNzjJgfp9t",
        "outputId": "2c49f116-4718-4d9c-a9db-b669fde9ea1e"
      },
      "execution_count": 4,
      "outputs": [
        {
          "output_type": "stream",
          "name": "stdout",
          "text": [
            "[[6 7]\n",
            " [8 9]]\n"
          ]
        }
      ]
    },
    {
      "cell_type": "code",
      "source": [
        "A.shape"
      ],
      "metadata": {
        "colab": {
          "base_uri": "https://localhost:8080/"
        },
        "id": "iqSWurHTfvU-",
        "outputId": "d2b3b00b-bd56-451e-9b0b-4214f185750d"
      },
      "execution_count": 5,
      "outputs": [
        {
          "output_type": "execute_result",
          "data": {
            "text/plain": [
              "(2, 2)"
            ]
          },
          "metadata": {},
          "execution_count": 5
        }
      ]
    },
    {
      "cell_type": "code",
      "source": [
        "B.shape"
      ],
      "metadata": {
        "colab": {
          "base_uri": "https://localhost:8080/"
        },
        "id": "_BcNXE5ffzpv",
        "outputId": "6639a6f0-59e7-41c2-bf26-3a079c52613c"
      },
      "execution_count": 6,
      "outputs": [
        {
          "output_type": "execute_result",
          "data": {
            "text/plain": [
              "(2, 2)"
            ]
          },
          "metadata": {},
          "execution_count": 6
        }
      ]
    },
    {
      "cell_type": "markdown",
      "source": [
        "Adding two Matrices"
      ],
      "metadata": {
        "id": "ZcNtMXmQf_rQ"
      }
    },
    {
      "cell_type": "code",
      "source": [
        "sum = A + B"
      ],
      "metadata": {
        "id": "ab77kbS5f3Ui"
      },
      "execution_count": 7,
      "outputs": []
    },
    {
      "cell_type": "code",
      "source": [
        "print(sum)"
      ],
      "metadata": {
        "colab": {
          "base_uri": "https://localhost:8080/"
        },
        "id": "BTaods31gEyv",
        "outputId": "f21dcb19-f8a9-4142-df57-72a1999d9836"
      },
      "execution_count": 8,
      "outputs": [
        {
          "output_type": "stream",
          "name": "stdout",
          "text": [
            "[[ 8 10]\n",
            " [12 14]]\n"
          ]
        }
      ]
    },
    {
      "cell_type": "code",
      "source": [
        "  # create two matrices with random values\n",
        "  matrix_1 = np.random.randint(10,size=(3,3))\n",
        "  matrix_2 = np.random.randint(20,size=(3,3))"
      ],
      "metadata": {
        "id": "lrLSyZgCgFmn"
      },
      "execution_count": 10,
      "outputs": []
    },
    {
      "cell_type": "code",
      "source": [
        "print(matrix_1)"
      ],
      "metadata": {
        "colab": {
          "base_uri": "https://localhost:8080/"
        },
        "id": "SxCNIUdQg5Mi",
        "outputId": "067b17c7-f183-415a-d04b-cccaaa811bf6"
      },
      "execution_count": 11,
      "outputs": [
        {
          "output_type": "stream",
          "name": "stdout",
          "text": [
            "[[9 4 5]\n",
            " [2 7 2]\n",
            " [7 5 1]]\n"
          ]
        }
      ]
    },
    {
      "cell_type": "code",
      "source": [
        "print(matrix_2)"
      ],
      "metadata": {
        "colab": {
          "base_uri": "https://localhost:8080/"
        },
        "id": "JtmlJZOBhBFZ",
        "outputId": "d041b257-5fa3-413b-a132-d6d15abae9bd"
      },
      "execution_count": 13,
      "outputs": [
        {
          "output_type": "stream",
          "name": "stdout",
          "text": [
            "[[ 3  7 15]\n",
            " [ 5 18  9]\n",
            " [ 4 18  1]]\n"
          ]
        }
      ]
    },
    {
      "cell_type": "code",
      "source": [
        "sum = np.add(matrix_1,matrix_2)"
      ],
      "metadata": {
        "id": "4N_6gZbphCsE"
      },
      "execution_count": 14,
      "outputs": []
    },
    {
      "cell_type": "code",
      "source": [
        "print(sum)"
      ],
      "metadata": {
        "colab": {
          "base_uri": "https://localhost:8080/"
        },
        "id": "w7UmoCNWhMl4",
        "outputId": "42a70e64-1a4b-4005-dfa2-cdf4395e3f14"
      },
      "execution_count": 15,
      "outputs": [
        {
          "output_type": "stream",
          "name": "stdout",
          "text": [
            "[[12 11 20]\n",
            " [ 7 25 11]\n",
            " [11 23  2]]\n"
          ]
        }
      ]
    },
    {
      "cell_type": "code",
      "source": [
        "  # create two matrices with random values\n",
        "  matrix_3 = np.random.randint(10,size=(3,3))\n",
        "  matrix_4 = np.random.randint(20,size=(3,4))"
      ],
      "metadata": {
        "id": "JjLNK83nhNvH"
      },
      "execution_count": 16,
      "outputs": []
    },
    {
      "cell_type": "code",
      "source": [
        "sum = np.add(matrix_3,matrix_4)"
      ],
      "metadata": {
        "colab": {
          "base_uri": "https://localhost:8080/",
          "height": 141
        },
        "id": "Dac8CKJdhfO7",
        "outputId": "0d11c99d-4b12-4c52-ab44-ddc90078afcb"
      },
      "execution_count": 17,
      "outputs": [
        {
          "output_type": "error",
          "ename": "ValueError",
          "evalue": "operands could not be broadcast together with shapes (3,3) (3,4) ",
          "traceback": [
            "\u001b[0;31m---------------------------------------------------------------------------\u001b[0m",
            "\u001b[0;31mValueError\u001b[0m                                Traceback (most recent call last)",
            "\u001b[0;32m<ipython-input-17-8e6d2d54c2a8>\u001b[0m in \u001b[0;36m<cell line: 0>\u001b[0;34m()\u001b[0m\n\u001b[0;32m----> 1\u001b[0;31m \u001b[0msum\u001b[0m \u001b[0;34m=\u001b[0m \u001b[0mnp\u001b[0m\u001b[0;34m.\u001b[0m\u001b[0madd\u001b[0m\u001b[0;34m(\u001b[0m\u001b[0mmatrix_3\u001b[0m\u001b[0;34m,\u001b[0m\u001b[0mmatrix_4\u001b[0m\u001b[0;34m)\u001b[0m\u001b[0;34m\u001b[0m\u001b[0;34m\u001b[0m\u001b[0m\n\u001b[0m",
            "\u001b[0;31mValueError\u001b[0m: operands could not be broadcast together with shapes (3,3) (3,4) "
          ]
        }
      ]
    },
    {
      "cell_type": "markdown",
      "source": [
        "we get this error because shape of matrix_3 and matrix_4 are different"
      ],
      "metadata": {
        "id": "5c79e7n8hr9h"
      }
    },
    {
      "cell_type": "markdown",
      "source": [
        "**Matrix Subtraction**"
      ],
      "metadata": {
        "id": "txY_Z8N4h1Fx"
      }
    },
    {
      "cell_type": "code",
      "source": [
        "# creating two matrices\n",
        "A = np.array([[2,3],[4,5]])\n",
        "B = np.array([[6,7],[8,9]])"
      ],
      "metadata": {
        "id": "b103LW3whjQO"
      },
      "execution_count": 18,
      "outputs": []
    },
    {
      "cell_type": "code",
      "source": [
        "difference = A - B"
      ],
      "metadata": {
        "id": "WUCth4Pah87z"
      },
      "execution_count": 19,
      "outputs": []
    },
    {
      "cell_type": "code",
      "source": [
        "print(difference)"
      ],
      "metadata": {
        "colab": {
          "base_uri": "https://localhost:8080/"
        },
        "id": "aNilu6oYh_OA",
        "outputId": "ecbf9e2e-f0e2-469a-dcdb-4b46ef149cd8"
      },
      "execution_count": 20,
      "outputs": [
        {
          "output_type": "stream",
          "name": "stdout",
          "text": [
            "[[-4 -4]\n",
            " [-4 -4]]\n"
          ]
        }
      ]
    },
    {
      "cell_type": "code",
      "source": [
        "  # create two matrices with random values\n",
        "  matrix_3 = np.random.randint(10,size=(3,3))\n",
        "  matrix_4 = np.random.randint(20,size=(3,3))"
      ],
      "metadata": {
        "id": "loph4DspiCNx"
      },
      "execution_count": 21,
      "outputs": []
    },
    {
      "cell_type": "code",
      "source": [
        "print(matrix_3)"
      ],
      "metadata": {
        "colab": {
          "base_uri": "https://localhost:8080/"
        },
        "id": "VDY37kNPiQMc",
        "outputId": "0dc462d3-c72e-4f34-8200-bb3cd67b68d6"
      },
      "execution_count": 22,
      "outputs": [
        {
          "output_type": "stream",
          "name": "stdout",
          "text": [
            "[[4 4 9]\n",
            " [0 2 7]\n",
            " [2 7 2]]\n"
          ]
        }
      ]
    },
    {
      "cell_type": "code",
      "source": [
        "print(matrix_4)"
      ],
      "metadata": {
        "colab": {
          "base_uri": "https://localhost:8080/"
        },
        "id": "SHuD9JvfiUrZ",
        "outputId": "90427319-ce82-41d2-cc8c-afe61f31e9e8"
      },
      "execution_count": 23,
      "outputs": [
        {
          "output_type": "stream",
          "name": "stdout",
          "text": [
            "[[ 9 14  8]\n",
            " [12 17 17]\n",
            " [12  4 15]]\n"
          ]
        }
      ]
    },
    {
      "cell_type": "code",
      "source": [
        "diff = np.subtract(matrix_3,matrix_4)"
      ],
      "metadata": {
        "id": "CZDqGPxXiVpT"
      },
      "execution_count": 24,
      "outputs": []
    },
    {
      "cell_type": "code",
      "source": [
        "print(diff)"
      ],
      "metadata": {
        "colab": {
          "base_uri": "https://localhost:8080/"
        },
        "id": "Yz6PVozhiZed",
        "outputId": "ce897647-7100-4075-927c-b2331d51c5ee"
      },
      "execution_count": 25,
      "outputs": [
        {
          "output_type": "stream",
          "name": "stdout",
          "text": [
            "[[ -5 -10   1]\n",
            " [-12 -15 -10]\n",
            " [-10   3 -13]]\n"
          ]
        }
      ]
    },
    {
      "cell_type": "markdown",
      "source": [
        "**Multiplying a matrix by a scalar**"
      ],
      "metadata": {
        "id": "hzZ1ZQhPijeM"
      }
    },
    {
      "cell_type": "code",
      "source": [
        "x = 5\n",
        "y = np.random.randint(10,size=(4,4))\n",
        "print(y)"
      ],
      "metadata": {
        "colab": {
          "base_uri": "https://localhost:8080/"
        },
        "id": "k4crKpWAiaYS",
        "outputId": "879fce2f-6de4-4828-99ea-313a9a6f6e3d"
      },
      "execution_count": 26,
      "outputs": [
        {
          "output_type": "stream",
          "name": "stdout",
          "text": [
            "[[8 0 4 8]\n",
            " [0 1 0 0]\n",
            " [5 3 3 4]\n",
            " [1 6 1 1]]\n"
          ]
        }
      ]
    },
    {
      "cell_type": "code",
      "source": [
        "product = np.multiply(x,y)\n",
        "print(product)"
      ],
      "metadata": {
        "colab": {
          "base_uri": "https://localhost:8080/"
        },
        "id": "9K2OSRnai2Wk",
        "outputId": "caaf8488-d46c-44e9-d5da-f7a67312f8f8"
      },
      "execution_count": 27,
      "outputs": [
        {
          "output_type": "stream",
          "name": "stdout",
          "text": [
            "[[40  0 20 40]\n",
            " [ 0  5  0  0]\n",
            " [25 15 15 20]\n",
            " [ 5 30  5  5]]\n"
          ]
        }
      ]
    },
    {
      "cell_type": "markdown",
      "source": [
        "**Multiplying 2 Matrices**"
      ],
      "metadata": {
        "id": "rhY6-AZfjNuj"
      }
    },
    {
      "cell_type": "code",
      "source": [
        "  # create two matrices with random values\n",
        "  matrix_3 = np.random.randint(5,size=(3,3))\n",
        "  matrix_4 = np.random.randint(5,size=(3,4))"
      ],
      "metadata": {
        "id": "J0Iaz0toi8RP"
      },
      "execution_count": 28,
      "outputs": []
    },
    {
      "cell_type": "code",
      "source": [
        "print(matrix_3)"
      ],
      "metadata": {
        "colab": {
          "base_uri": "https://localhost:8080/"
        },
        "id": "qUMmm1l3kIv4",
        "outputId": "936f85b8-55b0-4ca1-cb77-d7136819e318"
      },
      "execution_count": 29,
      "outputs": [
        {
          "output_type": "stream",
          "name": "stdout",
          "text": [
            "[[1 1 3]\n",
            " [1 4 1]\n",
            " [4 0 2]]\n"
          ]
        }
      ]
    },
    {
      "cell_type": "code",
      "source": [
        "print(matrix_4)"
      ],
      "metadata": {
        "colab": {
          "base_uri": "https://localhost:8080/"
        },
        "id": "bZ_7DQ_KkQIF",
        "outputId": "14cf6425-bd15-459a-831d-2350f422cb29"
      },
      "execution_count": 30,
      "outputs": [
        {
          "output_type": "stream",
          "name": "stdout",
          "text": [
            "[[4 1 3 0]\n",
            " [2 1 3 2]\n",
            " [4 1 2 3]]\n"
          ]
        }
      ]
    },
    {
      "cell_type": "code",
      "source": [
        "product = np.dot(matrix_3, matrix_4)"
      ],
      "metadata": {
        "id": "rSj82f3IkTD8"
      },
      "execution_count": 32,
      "outputs": []
    },
    {
      "cell_type": "code",
      "source": [
        "print(product)"
      ],
      "metadata": {
        "colab": {
          "base_uri": "https://localhost:8080/"
        },
        "id": "lL488tgSkazG",
        "outputId": "bf53520a-86d3-4492-e0de-e0c89676922b"
      },
      "execution_count": 33,
      "outputs": [
        {
          "output_type": "stream",
          "name": "stdout",
          "text": [
            "[[18  5 12 11]\n",
            " [16  6 17 11]\n",
            " [24  6 16  6]]\n"
          ]
        }
      ]
    },
    {
      "cell_type": "code",
      "source": [
        "product.shape"
      ],
      "metadata": {
        "colab": {
          "base_uri": "https://localhost:8080/"
        },
        "id": "j-XbTd9RkeS6",
        "outputId": "729a4a1b-2ee7-461b-92b2-e2a68015cf00"
      },
      "execution_count": 34,
      "outputs": [
        {
          "output_type": "execute_result",
          "data": {
            "text/plain": [
              "(3, 4)"
            ]
          },
          "metadata": {},
          "execution_count": 34
        }
      ]
    },
    {
      "cell_type": "code",
      "source": [
        "  # create two matrices with random values\n",
        "  matrix_3 = np.random.randint(5,size=(3,3))\n",
        "  matrix_4 = np.random.randint(5,size=(4,4))"
      ],
      "metadata": {
        "id": "PfgLmbNYkh_t"
      },
      "execution_count": 35,
      "outputs": []
    },
    {
      "cell_type": "code",
      "source": [
        "product = np.dot(matrix_3, matrix_4)"
      ],
      "metadata": {
        "colab": {
          "base_uri": "https://localhost:8080/",
          "height": 141
        },
        "id": "-t_b7dGTk47E",
        "outputId": "1ed42d19-2415-494e-a819-360d2ee7a45c"
      },
      "execution_count": 36,
      "outputs": [
        {
          "output_type": "error",
          "ename": "ValueError",
          "evalue": "shapes (3,3) and (4,4) not aligned: 3 (dim 1) != 4 (dim 0)",
          "traceback": [
            "\u001b[0;31m---------------------------------------------------------------------------\u001b[0m",
            "\u001b[0;31mValueError\u001b[0m                                Traceback (most recent call last)",
            "\u001b[0;32m<ipython-input-36-bda2f76d7bdb>\u001b[0m in \u001b[0;36m<cell line: 0>\u001b[0;34m()\u001b[0m\n\u001b[0;32m----> 1\u001b[0;31m \u001b[0mproduct\u001b[0m \u001b[0;34m=\u001b[0m \u001b[0mnp\u001b[0m\u001b[0;34m.\u001b[0m\u001b[0mdot\u001b[0m\u001b[0;34m(\u001b[0m\u001b[0mmatrix_3\u001b[0m\u001b[0;34m,\u001b[0m \u001b[0mmatrix_4\u001b[0m\u001b[0;34m)\u001b[0m\u001b[0;34m\u001b[0m\u001b[0;34m\u001b[0m\u001b[0m\n\u001b[0m",
            "\u001b[0;31mValueError\u001b[0m: shapes (3,3) and (4,4) not aligned: 3 (dim 1) != 4 (dim 0)"
          ]
        }
      ]
    },
    {
      "cell_type": "markdown",
      "source": [
        "**Element wise Matrix by a scalar**\n",
        "\n",
        "\n"
      ],
      "metadata": {
        "id": "2eto5S3wlG6P"
      }
    },
    {
      "cell_type": "code",
      "source": [
        "  # create two matrices with random values\n",
        "  matrix_3 = np.random.randint(5,size=(3,3))\n",
        "  matrix_4 = np.random.randint(5,size=(3,3))"
      ],
      "metadata": {
        "id": "mgKIrjqok_v7"
      },
      "execution_count": 38,
      "outputs": []
    },
    {
      "cell_type": "code",
      "source": [
        "print(matrix_3)"
      ],
      "metadata": {
        "colab": {
          "base_uri": "https://localhost:8080/"
        },
        "id": "kNnVKYNBlE-L",
        "outputId": "dea19159-01ca-4ed2-f534-c7f74d2b7064"
      },
      "execution_count": 40,
      "outputs": [
        {
          "output_type": "stream",
          "name": "stdout",
          "text": [
            "[[1 3 3]\n",
            " [2 3 2]\n",
            " [1 4 0]]\n"
          ]
        }
      ]
    },
    {
      "cell_type": "code",
      "source": [
        "print(matrix_4)"
      ],
      "metadata": {
        "colab": {
          "base_uri": "https://localhost:8080/"
        },
        "id": "UkFcZNANlN2A",
        "outputId": "f76eb5cc-8e17-480e-aad6-613fd0f8a7f1"
      },
      "execution_count": 41,
      "outputs": [
        {
          "output_type": "stream",
          "name": "stdout",
          "text": [
            "[[1 1 4]\n",
            " [0 3 3]\n",
            " [0 1 3]]\n"
          ]
        }
      ]
    },
    {
      "cell_type": "code",
      "source": [
        "product = np.multiply(matrix_3,matrix_4)"
      ],
      "metadata": {
        "id": "1XsxGr2Ylho0"
      },
      "execution_count": 42,
      "outputs": []
    },
    {
      "cell_type": "code",
      "source": [
        "print(product)"
      ],
      "metadata": {
        "colab": {
          "base_uri": "https://localhost:8080/"
        },
        "id": "5WLnfBHWloJs",
        "outputId": "5dc02008-9c9b-42b7-c73c-70d5ddbb97fd"
      },
      "execution_count": 43,
      "outputs": [
        {
          "output_type": "stream",
          "name": "stdout",
          "text": [
            "[[ 1  3 12]\n",
            " [ 0  9  6]\n",
            " [ 0  4  0]]\n"
          ]
        }
      ]
    },
    {
      "cell_type": "code",
      "source": [
        "  # create two matrices with random values\n",
        "  matrix_3 = np.random.randint(5,size=(3,3))\n",
        "  matrix_4 = np.random.randint(5,size=(3,4))"
      ],
      "metadata": {
        "id": "3jeYlABJltUM"
      },
      "execution_count": 44,
      "outputs": []
    },
    {
      "cell_type": "code",
      "source": [
        "product = np.multiply(matrix_3,matrix_4)"
      ],
      "metadata": {
        "colab": {
          "base_uri": "https://localhost:8080/",
          "height": 141
        },
        "id": "ntTj5d1vl3WO",
        "outputId": "9eb0a613-d14c-461a-dba1-f0cff2968753"
      },
      "execution_count": 45,
      "outputs": [
        {
          "output_type": "error",
          "ename": "ValueError",
          "evalue": "operands could not be broadcast together with shapes (3,3) (3,4) ",
          "traceback": [
            "\u001b[0;31m---------------------------------------------------------------------------\u001b[0m",
            "\u001b[0;31mValueError\u001b[0m                                Traceback (most recent call last)",
            "\u001b[0;32m<ipython-input-45-c6f1d134dd83>\u001b[0m in \u001b[0;36m<cell line: 0>\u001b[0;34m()\u001b[0m\n\u001b[0;32m----> 1\u001b[0;31m \u001b[0mproduct\u001b[0m \u001b[0;34m=\u001b[0m \u001b[0mnp\u001b[0m\u001b[0;34m.\u001b[0m\u001b[0mmultiply\u001b[0m\u001b[0;34m(\u001b[0m\u001b[0mmatrix_3\u001b[0m\u001b[0;34m,\u001b[0m\u001b[0mmatrix_4\u001b[0m\u001b[0;34m)\u001b[0m\u001b[0;34m\u001b[0m\u001b[0;34m\u001b[0m\u001b[0m\n\u001b[0m",
            "\u001b[0;31mValueError\u001b[0m: operands could not be broadcast together with shapes (3,3) (3,4) "
          ]
        }
      ]
    },
    {
      "cell_type": "code",
      "source": [],
      "metadata": {
        "id": "tDKmKKhYl5cw"
      },
      "execution_count": null,
      "outputs": []
    }
  ]
}