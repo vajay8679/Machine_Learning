{
  "nbformat": 4,
  "nbformat_minor": 0,
  "metadata": {
    "colab": {
      "provenance": []
    },
    "kernelspec": {
      "name": "python3",
      "display_name": "Python 3"
    },
    "language_info": {
      "name": "python"
    }
  },
  "cells": [
    {
      "cell_type": "code",
      "execution_count": 1,
      "metadata": {
        "id": "hUA_YhUhq5AN"
      },
      "outputs": [],
      "source": [
        "import numpy as np"
      ]
    },
    {
      "cell_type": "markdown",
      "source": [
        "Dot Product of two vectors"
      ],
      "metadata": {
        "id": "9Vx_qSARrGXj"
      }
    },
    {
      "cell_type": "code",
      "source": [
        "a = np.array([2,3])\n",
        "b = np.array([4,4])\n",
        "\n",
        "a_dot_b = np.dot(a,b)"
      ],
      "metadata": {
        "id": "wTlgjU3LrFfJ"
      },
      "execution_count": 2,
      "outputs": []
    },
    {
      "cell_type": "code",
      "source": [
        "print(a_dot_b)"
      ],
      "metadata": {
        "colab": {
          "base_uri": "https://localhost:8080/"
        },
        "id": "swFklr7prXYL",
        "outputId": "a7e26376-56e6-4641-f9b0-056f947374fe"
      },
      "execution_count": 3,
      "outputs": [
        {
          "output_type": "stream",
          "name": "stdout",
          "text": [
            "20\n"
          ]
        }
      ]
    },
    {
      "cell_type": "code",
      "source": [
        "c = np.array([40,20,35])\n",
        "d = np.array([53,24,68])\n",
        "\n",
        "c_dot_d = np.dot(c,d)"
      ],
      "metadata": {
        "id": "1UY6x0Q0rZIc"
      },
      "execution_count": 4,
      "outputs": []
    },
    {
      "cell_type": "code",
      "source": [
        "print(c_dot_d)"
      ],
      "metadata": {
        "colab": {
          "base_uri": "https://localhost:8080/"
        },
        "id": "siv04gDqrwW8",
        "outputId": "297e6373-5925-4b62-988f-2e634fdf84cc"
      },
      "execution_count": 5,
      "outputs": [
        {
          "output_type": "stream",
          "name": "stdout",
          "text": [
            "4980\n"
          ]
        }
      ]
    },
    {
      "cell_type": "markdown",
      "source": [
        "Cross Product of 2 Vectors"
      ],
      "metadata": {
        "id": "HwUI8HsIr2Ha"
      }
    },
    {
      "cell_type": "code",
      "source": [
        "a = np.array([2,3])\n",
        "b = np.array([4,4])\n",
        "a_cross_b = np.cross(a,b)\n"
      ],
      "metadata": {
        "colab": {
          "base_uri": "https://localhost:8080/"
        },
        "id": "YPLpSUsarx74",
        "outputId": "05292edd-d176-4da5-f17f-5ebba26dc8ba"
      },
      "execution_count": 6,
      "outputs": [
        {
          "output_type": "stream",
          "name": "stderr",
          "text": [
            "<ipython-input-6-197c280e2f9d>:3: DeprecationWarning: Arrays of 2-dimensional vectors are deprecated. Use arrays of 3-dimensional vectors instead. (deprecated in NumPy 2.0)\n",
            "  a_cross_b = np.cross(a,b)\n"
          ]
        }
      ]
    },
    {
      "cell_type": "code",
      "source": [
        "print(a_cross_b)"
      ],
      "metadata": {
        "colab": {
          "base_uri": "https://localhost:8080/"
        },
        "id": "kc4pusYNsLsY",
        "outputId": "c6d75e21-a4f2-4e40-f99f-24a9e5dd62e9"
      },
      "execution_count": 7,
      "outputs": [
        {
          "output_type": "stream",
          "name": "stdout",
          "text": [
            "-4\n"
          ]
        }
      ]
    },
    {
      "cell_type": "code",
      "source": [
        "c = np.array([5,10,20])\n",
        "d = np.array([18,32,50])\n",
        "\n",
        "c_cross_d = np.cross(c,d)"
      ],
      "metadata": {
        "id": "3F9tPtjusNwl"
      },
      "execution_count": 8,
      "outputs": []
    },
    {
      "cell_type": "code",
      "source": [
        "print(c_cross_d)"
      ],
      "metadata": {
        "colab": {
          "base_uri": "https://localhost:8080/"
        },
        "id": "JAXJoLjEsfDM",
        "outputId": "3438877a-7654-40ff-b839-8032849c9d0e"
      },
      "execution_count": 9,
      "outputs": [
        {
          "output_type": "stream",
          "name": "stdout",
          "text": [
            "[-140  110  -20]\n"
          ]
        }
      ]
    },
    {
      "cell_type": "markdown",
      "source": [
        "Projection of 'a' vector on 'v' vector"
      ],
      "metadata": {
        "id": "H5IQcUnMs5D_"
      }
    },
    {
      "cell_type": "markdown",
      "source": [
        "![projection.png](data:image/png;base64,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)"
      ],
      "metadata": {
        "id": "621PeiixtriV"
      }
    },
    {
      "cell_type": "code",
      "source": [
        "a = np.array([2,5])\n",
        "v = np.array([8,-6])\n",
        "\n",
        "# magnitude of 'v' vector\n",
        "magnitude_of_v = np.sqrt(sum(v**2))\n",
        "\n",
        "proj_of_a_on_v = (np.dot(a,v)/magnitude_of_v**2)*v\n",
        "\n",
        "print(\"Projection of vector on v vector \",proj_of_a_on_v)"
      ],
      "metadata": {
        "colab": {
          "base_uri": "https://localhost:8080/"
        },
        "id": "WoqO5R1CsgXE",
        "outputId": "7800caa0-96d0-43de-9cc0-a046f9d58a84"
      },
      "execution_count": 11,
      "outputs": [
        {
          "output_type": "stream",
          "name": "stdout",
          "text": [
            "Projection of vector on v vector  [-1.12  0.84]\n"
          ]
        }
      ]
    },
    {
      "cell_type": "code",
      "source": [
        "a = np.array([23,45,62])\n",
        "v = np.array([45,82,67])\n",
        "\n",
        "# magnitude of 'v' vector\n",
        "magnitude_of_v = np.sqrt(sum(v**2))\n",
        "\n",
        "proj_of_a_on_v = (np.dot(a,v)/magnitude_of_v**2)*v\n",
        "\n",
        "print(\"Projection of vector on v vector \",proj_of_a_on_v)"
      ],
      "metadata": {
        "colab": {
          "base_uri": "https://localhost:8080/"
        },
        "id": "Y5VNePVzuNl3",
        "outputId": "9bcfd286-d654-41d6-e043-5dc661c810ae"
      },
      "execution_count": 12,
      "outputs": [
        {
          "output_type": "stream",
          "name": "stdout",
          "text": [
            "Projection of vector on v vector  [30.18242937 54.99909352 44.93828373]\n"
          ]
        }
      ]
    },
    {
      "cell_type": "code",
      "source": [],
      "metadata": {
        "id": "c_Ys4czRvKgs"
      },
      "execution_count": null,
      "outputs": []
    }
  ]
}