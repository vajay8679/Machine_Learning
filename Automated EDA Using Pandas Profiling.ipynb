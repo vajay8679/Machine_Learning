{
 "cells": [
  {
   "cell_type": "markdown",
   "metadata": {},
   "source": [
    "# Automated EDA Using Pandas Profiling"
   ]
  },
  {
   "cell_type": "code",
   "execution_count": 1,
   "metadata": {},
   "outputs": [
    {
     "name": "stdout",
     "output_type": "stream",
     "text": [
      "Requirement already satisfied: pandas-profiling in /home/zec/.local/lib/python3.8/site-packages (3.2.0)\n",
      "Requirement already satisfied: htmlmin>=0.1.12 in /home/zec/.local/lib/python3.8/site-packages (from pandas-profiling) (0.1.12)\n",
      "Requirement already satisfied: scipy>=1.4.1 in /home/zec/.local/lib/python3.8/site-packages (from pandas-profiling) (1.10.1)\n",
      "Requirement already satisfied: multimethod>=1.4 in /home/zec/.local/lib/python3.8/site-packages (from pandas-profiling) (1.10)\n",
      "Requirement already satisfied: numpy>=1.16.0 in /home/zec/.local/lib/python3.8/site-packages (from pandas-profiling) (1.24.4)\n",
      "Requirement already satisfied: pandas!=1.0.0,!=1.0.1,!=1.0.2,!=1.1.0,>=0.25.3 in /home/zec/.local/lib/python3.8/site-packages (from pandas-profiling) (1.3.5)\n",
      "Requirement already satisfied: phik>=0.11.1 in /home/zec/.local/lib/python3.8/site-packages (from pandas-profiling) (0.12.4)\n",
      "Requirement already satisfied: joblib~=1.1.0 in /home/zec/.local/lib/python3.8/site-packages (from pandas-profiling) (1.1.1)\n",
      "Requirement already satisfied: PyYAML>=5.0.0 in /usr/lib/python3/dist-packages (from pandas-profiling) (5.3.1)\n",
      "Requirement already satisfied: jinja2>=2.11.1 in /home/zec/.local/lib/python3.8/site-packages (from pandas-profiling) (3.0.3)\n",
      "Requirement already satisfied: missingno>=0.4.2 in /home/zec/.local/lib/python3.8/site-packages (from pandas-profiling) (0.5.2)\n",
      "Requirement already satisfied: tangled-up-in-unicode==0.2.0 in /home/zec/.local/lib/python3.8/site-packages (from pandas-profiling) (0.2.0)\n",
      "Requirement already satisfied: visions[type_image_path]==0.7.4 in /home/zec/.local/lib/python3.8/site-packages (from pandas-profiling) (0.7.4)\n",
      "Requirement already satisfied: requests>=2.24.0 in /home/zec/.local/lib/python3.8/site-packages (from pandas-profiling) (2.32.3)\n",
      "Requirement already satisfied: markupsafe~=2.1.1 in /home/zec/.local/lib/python3.8/site-packages (from pandas-profiling) (2.1.3)\n",
      "Requirement already satisfied: tqdm>=4.48.2 in /home/zec/.local/lib/python3.8/site-packages (from pandas-profiling) (4.67.0)\n",
      "Requirement already satisfied: matplotlib>=3.2.0 in /home/zec/.local/lib/python3.8/site-packages (from pandas-profiling) (3.7.5)\n",
      "Requirement already satisfied: seaborn>=0.10.1 in /home/zec/.local/lib/python3.8/site-packages (from pandas-profiling) (0.13.2)\n",
      "Requirement already satisfied: pydantic>=1.8.1 in /home/zec/.local/lib/python3.8/site-packages (from pandas-profiling) (1.10.2)\n",
      "Requirement already satisfied: python-dateutil>=2.7.3 in /home/zec/.local/lib/python3.8/site-packages (from pandas!=1.0.0,!=1.0.1,!=1.0.2,!=1.1.0,>=0.25.3->pandas-profiling) (2.9.0.post0)\n",
      "Requirement already satisfied: pytz>=2017.3 in /home/zec/.local/lib/python3.8/site-packages (from pandas!=1.0.0,!=1.0.1,!=1.0.2,!=1.1.0,>=0.25.3->pandas-profiling) (2023.3.post1)\n",
      "Requirement already satisfied: attrs>=19.3.0 in /home/zec/.local/lib/python3.8/site-packages (from visions[type_image_path]==0.7.4->pandas-profiling) (23.1.0)\n",
      "Requirement already satisfied: networkx>=2.4 in /home/zec/.local/lib/python3.8/site-packages (from visions[type_image_path]==0.7.4->pandas-profiling) (3.1)\n",
      "Requirement already satisfied: Pillow; extra == \"type_image_path\" in /usr/lib/python3/dist-packages (from visions[type_image_path]==0.7.4->pandas-profiling) (7.0.0)\n",
      "Requirement already satisfied: imagehash; extra == \"type_image_path\" in /home/zec/.local/lib/python3.8/site-packages (from visions[type_image_path]==0.7.4->pandas-profiling) (4.3.1)\n",
      "Requirement already satisfied: certifi>=2017.4.17 in /usr/lib/python3/dist-packages (from requests>=2.24.0->pandas-profiling) (2019.11.28)\n",
      "Requirement already satisfied: urllib3<3,>=1.21.1 in /usr/lib/python3/dist-packages (from requests>=2.24.0->pandas-profiling) (1.25.8)\n",
      "Requirement already satisfied: charset-normalizer<4,>=2 in /home/zec/.local/lib/python3.8/site-packages (from requests>=2.24.0->pandas-profiling) (3.4.0)\n",
      "Requirement already satisfied: idna<4,>=2.5 in /usr/lib/python3/dist-packages (from requests>=2.24.0->pandas-profiling) (2.8)\n",
      "Requirement already satisfied: packaging>=20.0 in /home/zec/.local/lib/python3.8/site-packages (from matplotlib>=3.2.0->pandas-profiling) (23.2)\n",
      "Requirement already satisfied: kiwisolver>=1.0.1 in /home/zec/.local/lib/python3.8/site-packages (from matplotlib>=3.2.0->pandas-profiling) (1.4.5)\n",
      "Requirement already satisfied: contourpy>=1.0.1 in /home/zec/.local/lib/python3.8/site-packages (from matplotlib>=3.2.0->pandas-profiling) (1.1.1)\n",
      "Requirement already satisfied: importlib-resources>=3.2.0; python_version < \"3.10\" in /home/zec/.local/lib/python3.8/site-packages (from matplotlib>=3.2.0->pandas-profiling) (6.1.1)\n",
      "Requirement already satisfied: cycler>=0.10 in /home/zec/.local/lib/python3.8/site-packages (from matplotlib>=3.2.0->pandas-profiling) (0.12.1)\n",
      "Requirement already satisfied: pyparsing>=2.3.1 in /usr/lib/python3/dist-packages (from matplotlib>=3.2.0->pandas-profiling) (2.4.6)\n",
      "Requirement already satisfied: fonttools>=4.22.0 in /home/zec/.local/lib/python3.8/site-packages (from matplotlib>=3.2.0->pandas-profiling) (4.53.0)\n",
      "Requirement already satisfied: typing-extensions>=4.1.0 in /home/zec/.local/lib/python3.8/site-packages (from pydantic>=1.8.1->pandas-profiling) (4.12.2)\n",
      "Requirement already satisfied: six>=1.5 in /usr/lib/python3/dist-packages (from python-dateutil>=2.7.3->pandas!=1.0.0,!=1.0.1,!=1.0.2,!=1.1.0,>=0.25.3->pandas-profiling) (1.14.0)\n",
      "Requirement already satisfied: PyWavelets in /home/zec/.local/lib/python3.8/site-packages (from imagehash; extra == \"type_image_path\"->visions[type_image_path]==0.7.4->pandas-profiling) (1.4.1)\n",
      "Requirement already satisfied: zipp>=3.1.0; python_version < \"3.10\" in /home/zec/.local/lib/python3.8/site-packages (from importlib-resources>=3.2.0; python_version < \"3.10\"->matplotlib>=3.2.0->pandas-profiling) (3.17.0)\n"
     ]
    }
   ],
   "source": [
    "!pip install pandas-profiling"
   ]
  },
  {
   "cell_type": "code",
   "execution_count": 2,
   "metadata": {},
   "outputs": [
    {
     "data": {
      "text/html": [
       "<div>\n",
       "<style scoped>\n",
       "    .dataframe tbody tr th:only-of-type {\n",
       "        vertical-align: middle;\n",
       "    }\n",
       "\n",
       "    .dataframe tbody tr th {\n",
       "        vertical-align: top;\n",
       "    }\n",
       "\n",
       "    .dataframe thead th {\n",
       "        text-align: right;\n",
       "    }\n",
       "</style>\n",
       "<table border=\"1\" class=\"dataframe\">\n",
       "  <thead>\n",
       "    <tr style=\"text-align: right;\">\n",
       "      <th></th>\n",
       "      <th>total_bill</th>\n",
       "      <th>tip</th>\n",
       "      <th>sex</th>\n",
       "      <th>smoker</th>\n",
       "      <th>day</th>\n",
       "      <th>time</th>\n",
       "      <th>size</th>\n",
       "    </tr>\n",
       "  </thead>\n",
       "  <tbody>\n",
       "    <tr>\n",
       "      <th>0</th>\n",
       "      <td>16.99</td>\n",
       "      <td>1.01</td>\n",
       "      <td>Female</td>\n",
       "      <td>No</td>\n",
       "      <td>Sun</td>\n",
       "      <td>Dinner</td>\n",
       "      <td>2</td>\n",
       "    </tr>\n",
       "    <tr>\n",
       "      <th>1</th>\n",
       "      <td>10.34</td>\n",
       "      <td>1.66</td>\n",
       "      <td>Male</td>\n",
       "      <td>No</td>\n",
       "      <td>Sun</td>\n",
       "      <td>Dinner</td>\n",
       "      <td>3</td>\n",
       "    </tr>\n",
       "    <tr>\n",
       "      <th>2</th>\n",
       "      <td>21.01</td>\n",
       "      <td>3.50</td>\n",
       "      <td>Male</td>\n",
       "      <td>No</td>\n",
       "      <td>Sun</td>\n",
       "      <td>Dinner</td>\n",
       "      <td>3</td>\n",
       "    </tr>\n",
       "    <tr>\n",
       "      <th>3</th>\n",
       "      <td>23.68</td>\n",
       "      <td>3.31</td>\n",
       "      <td>Male</td>\n",
       "      <td>No</td>\n",
       "      <td>Sun</td>\n",
       "      <td>Dinner</td>\n",
       "      <td>2</td>\n",
       "    </tr>\n",
       "    <tr>\n",
       "      <th>4</th>\n",
       "      <td>24.59</td>\n",
       "      <td>3.61</td>\n",
       "      <td>Female</td>\n",
       "      <td>No</td>\n",
       "      <td>Sun</td>\n",
       "      <td>Dinner</td>\n",
       "      <td>4</td>\n",
       "    </tr>\n",
       "  </tbody>\n",
       "</table>\n",
       "</div>"
      ],
      "text/plain": [
       "   total_bill   tip     sex smoker  day    time  size\n",
       "0       16.99  1.01  Female     No  Sun  Dinner     2\n",
       "1       10.34  1.66    Male     No  Sun  Dinner     3\n",
       "2       21.01  3.50    Male     No  Sun  Dinner     3\n",
       "3       23.68  3.31    Male     No  Sun  Dinner     2\n",
       "4       24.59  3.61  Female     No  Sun  Dinner     4"
      ]
     },
     "execution_count": 2,
     "metadata": {},
     "output_type": "execute_result"
    }
   ],
   "source": [
    "import seaborn as sns\n",
    "\n",
    "df = sns.load_dataset('tips')\n",
    "df.head()"
   ]
  },
  {
   "cell_type": "code",
   "execution_count": 3,
   "metadata": {},
   "outputs": [
    {
     "name": "stdout",
     "output_type": "stream",
     "text": [
      "Requirement already satisfied: pandas==1.3.5 in /home/zec/.local/lib/python3.8/site-packages (1.3.5)\n",
      "Requirement already satisfied: numpy>=1.17.3; platform_machine != \"aarch64\" and platform_machine != \"arm64\" and python_version < \"3.10\" in /home/zec/.local/lib/python3.8/site-packages (from pandas==1.3.5) (1.24.4)\n",
      "Requirement already satisfied: python-dateutil>=2.7.3 in /home/zec/.local/lib/python3.8/site-packages (from pandas==1.3.5) (2.9.0.post0)\n",
      "Requirement already satisfied: pytz>=2017.3 in /home/zec/.local/lib/python3.8/site-packages (from pandas==1.3.5) (2023.3.post1)\n",
      "Requirement already satisfied: six>=1.5 in /usr/lib/python3/dist-packages (from python-dateutil>=2.7.3->pandas==1.3.5) (1.14.0)\n",
      "Note: you may need to restart the kernel to use updated packages.\n"
     ]
    }
   ],
   "source": [
    "pip install pandas==1.3.5\n"
   ]
  },
  {
   "cell_type": "code",
   "execution_count": 10,
   "metadata": {
    "scrolled": true
   },
   "outputs": [
    {
     "name": "stderr",
     "output_type": "stream",
     "text": [
      "Exception ignored in: <function tqdm.__del__ at 0x7f0b65070280>\n",
      "Traceback (most recent call last):\n",
      "  File \"/home/zec/.local/lib/python3.8/site-packages/tqdm/std.py\", line 1148, in __del__\n",
      "    self.close()\n",
      "  File \"/home/zec/.local/lib/python3.8/site-packages/tqdm/notebook.py\", line 279, in close\n",
      "    self.disp(bar_style='danger', check_delay=False)\n",
      "  File \"/home/zec/.local/lib/python3.8/site-packages/tqdm/notebook.py\", line 150, in display\n",
      "    d = self.format_dict\n",
      "  File \"/home/zec/.local/lib/python3.8/site-packages/tqdm/std.py\", line 1462, in format_dict\n",
      "    'colour': self.colour}\n",
      "  File \"/home/zec/.local/lib/python3.8/site-packages/tqdm/notebook.py\", line 195, in colour\n",
      "    return self.container.children[-2].style.bar_color\n",
      "AttributeError: 'FloatProgress' object has no attribute 'style'\n",
      "Exception ignored in: <function tqdm.__del__ at 0x7f0b65070280>\n",
      "Traceback (most recent call last):\n",
      "  File \"/home/zec/.local/lib/python3.8/site-packages/tqdm/std.py\", line 1148, in __del__\n",
      "    self.close()\n",
      "  File \"/home/zec/.local/lib/python3.8/site-packages/tqdm/notebook.py\", line 279, in close\n",
      "    self.disp(bar_style='danger', check_delay=False)\n",
      "  File \"/home/zec/.local/lib/python3.8/site-packages/tqdm/notebook.py\", line 150, in display\n",
      "    d = self.format_dict\n",
      "  File \"/home/zec/.local/lib/python3.8/site-packages/tqdm/std.py\", line 1462, in format_dict\n",
      "    'colour': self.colour}\n",
      "  File \"/home/zec/.local/lib/python3.8/site-packages/tqdm/notebook.py\", line 195, in colour\n",
      "    return self.container.children[-2].style.bar_color\n",
      "AttributeError: 'FloatProgress' object has no attribute 'style'\n"
     ]
    }
   ],
   "source": [
    "from pandas_profiling import ProfileReport\n",
    "profile = ProfileReport(df,explorative=True,progress_bar=False)\n",
    "profile.to_file('output.html')"
   ]
  },
  {
   "cell_type": "code",
   "execution_count": null,
   "metadata": {},
   "outputs": [],
   "source": []
  },
  {
   "cell_type": "code",
   "execution_count": null,
   "metadata": {},
   "outputs": [],
   "source": []
  }
 ],
 "metadata": {
  "kernelspec": {
   "display_name": "Python 3",
   "language": "python",
   "name": "python3"
  },
  "language_info": {
   "codemirror_mode": {
    "name": "ipython",
    "version": 3
   },
   "file_extension": ".py",
   "mimetype": "text/x-python",
   "name": "python",
   "nbconvert_exporter": "python",
   "pygments_lexer": "ipython3",
   "version": "3.8.10"
  }
 },
 "nbformat": 4,
 "nbformat_minor": 4
}
