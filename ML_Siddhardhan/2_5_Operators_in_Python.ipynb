{
  "nbformat": 4,
  "nbformat_minor": 0,
  "metadata": {
    "colab": {
      "provenance": []
    },
    "kernelspec": {
      "name": "python3",
      "display_name": "Python 3"
    },
    "language_info": {
      "name": "python"
    }
  },
  "cells": [
    {
      "cell_type": "markdown",
      "source": [
        "Operators in Python:\n",
        "\n",
        "\n",
        "1.  Arithmetic Operators\n",
        "2.  Assignment Operators\n",
        "3.  Comparision Operators\n",
        "4.  Logical Operators\n",
        "5.  Identity Operators\n",
        "6.  Membership Operators"
      ],
      "metadata": {
        "id": "HlJCfXvmY6zU"
      }
    },
    {
      "cell_type": "markdown",
      "source": [
        "1. Arithmetic Operators"
      ],
      "metadata": {
        "id": "NTNdLzd9Zct0"
      }
    },
    {
      "cell_type": "code",
      "execution_count": 3,
      "metadata": {
        "colab": {
          "base_uri": "https://localhost:8080/"
        },
        "id": "Vqkja8tPdh7l",
        "outputId": "64f8ffc8-5ee8-40f1-a626-51bae34f1e68"
      },
      "outputs": [
        {
          "output_type": "stream",
          "name": "stdout",
          "text": [
            "sum  30\n",
            "difference  10\n",
            "Product  200\n",
            "quotient  2.0\n",
            "exponents  10240000000000\n",
            "reminder  0\n"
          ]
        }
      ],
      "source": [
        "num1 = 20\n",
        "num2 = 10\n",
        "\n",
        "#addition\n",
        "sum = num1+num2\n",
        "print('sum ',sum)\n",
        "\n",
        "#subtract\n",
        "diff = num1-num2\n",
        "print('difference ',diff)\n",
        "\n",
        "#mutiplication\n",
        "pro  = num1*num2\n",
        "print('Product ',pro)\n",
        "\n",
        "#division\n",
        "quo = num1/num2\n",
        "print('quotient ',quo)\n",
        "\n",
        "#exponent\n",
        "exp = num1**num2\n",
        "print('exponents ',exp)\n",
        "\n",
        "#modulus\n",
        "mod = num1%num2\n",
        "print('reminder ',mod)"
      ]
    },
    {
      "cell_type": "markdown",
      "source": [
        "2. Assignment Operators"
      ],
      "metadata": {
        "id": "K6K9XXYvae1B"
      }
    },
    {
      "cell_type": "markdown",
      "source": [
        "+=\n",
        "\n",
        "-=\n",
        "\n",
        "*=\n",
        "\n",
        "**=\n",
        "\n",
        "/=\n",
        "\n",
        "%="
      ],
      "metadata": {
        "id": "zmeJsN3cbAi_"
      }
    },
    {
      "cell_type": "code",
      "source": [
        "a = 5\n",
        "print(a)"
      ],
      "metadata": {
        "colab": {
          "base_uri": "https://localhost:8080/"
        },
        "id": "w96vW0x1aal1",
        "outputId": "7bc4ca9f-5b92-4741-f6d2-83d8eafb93fc"
      },
      "execution_count": 4,
      "outputs": [
        {
          "output_type": "stream",
          "name": "stdout",
          "text": [
            "5\n"
          ]
        }
      ]
    },
    {
      "cell_type": "code",
      "source": [
        "a = 5\n",
        "a += 5 # a = a+5\n",
        "print(a)"
      ],
      "metadata": {
        "colab": {
          "base_uri": "https://localhost:8080/"
        },
        "id": "VoSe4APRas4a",
        "outputId": "f220ffa3-5ba8-4eab-b77c-e1e55f2707e6"
      },
      "execution_count": 5,
      "outputs": [
        {
          "output_type": "stream",
          "name": "stdout",
          "text": [
            "10\n"
          ]
        }
      ]
    },
    {
      "cell_type": "code",
      "source": [
        "b = 10\n",
        "b -= 5 # b = b-5\n",
        "print(b)"
      ],
      "metadata": {
        "colab": {
          "base_uri": "https://localhost:8080/"
        },
        "id": "Fkm4LMPwa1Fc",
        "outputId": "5822690b-cc18-44ab-8e2b-cf3e45dbab0f"
      },
      "execution_count": 6,
      "outputs": [
        {
          "output_type": "stream",
          "name": "stdout",
          "text": [
            "5\n"
          ]
        }
      ]
    },
    {
      "cell_type": "markdown",
      "source": [
        "3. Comparision Operators"
      ],
      "metadata": {
        "id": "mPK0TROrbK-i"
      }
    },
    {
      "cell_type": "code",
      "source": [
        "a = 5\n",
        "b = 10\n",
        "\n",
        "print(a == b) # equal to\n",
        "print(a != b) # not equal to\n",
        "print(a > b)\n",
        "print(a < b)\n",
        "print(a <= b)\n",
        "print(a >= b)"
      ],
      "metadata": {
        "colab": {
          "base_uri": "https://localhost:8080/"
        },
        "id": "y24UhIKIa8YU",
        "outputId": "63f3fe5e-34b4-4f38-aeef-e5dc5aedb1b9"
      },
      "execution_count": 8,
      "outputs": [
        {
          "output_type": "stream",
          "name": "stdout",
          "text": [
            "False\n",
            "True\n",
            "False\n",
            "True\n",
            "True\n",
            "False\n"
          ]
        }
      ]
    },
    {
      "cell_type": "markdown",
      "source": [
        "4. Logical Operator\n",
        "\n",
        "and\n",
        "\n",
        "or\n",
        "\n",
        "not"
      ],
      "metadata": {
        "id": "pS8oLd-hbplM"
      }
    },
    {
      "cell_type": "code",
      "source": [
        "a = 10\n",
        "print(a>20 and a > 5)\n",
        "print(a>20 or a > 5)\n",
        "print(not(a>8 and a > 5))"
      ],
      "metadata": {
        "colab": {
          "base_uri": "https://localhost:8080/"
        },
        "id": "PNpPmq32bdII",
        "outputId": "23cd558c-f779-4ad0-e3e9-700027e5ac17"
      },
      "execution_count": 9,
      "outputs": [
        {
          "output_type": "stream",
          "name": "stdout",
          "text": [
            "False\n",
            "True\n",
            "False\n"
          ]
        }
      ]
    },
    {
      "cell_type": "markdown",
      "source": [
        "5. Identity Operator:\n",
        "\n",
        "is\n",
        "\n",
        "is not"
      ],
      "metadata": {
        "id": "AZtsb6mvcCgA"
      }
    },
    {
      "cell_type": "code",
      "source": [
        "x = 5\n",
        "y = 5\n",
        "\n",
        "print(x is y)"
      ],
      "metadata": {
        "colab": {
          "base_uri": "https://localhost:8080/"
        },
        "id": "XWzLS9i8cAFX",
        "outputId": "3c02c6ac-4af9-4ddf-f55e-f0fd6e9ea63e"
      },
      "execution_count": 10,
      "outputs": [
        {
          "output_type": "stream",
          "name": "stdout",
          "text": [
            "True\n"
          ]
        }
      ]
    },
    {
      "cell_type": "code",
      "source": [
        "x = 5\n",
        "y = 5\n",
        "\n",
        "print(x is not y)"
      ],
      "metadata": {
        "colab": {
          "base_uri": "https://localhost:8080/"
        },
        "id": "YNEJLOPycKyH",
        "outputId": "c302b46a-7b49-4d62-af7a-c9a9658cebae"
      },
      "execution_count": 11,
      "outputs": [
        {
          "output_type": "stream",
          "name": "stdout",
          "text": [
            "False\n"
          ]
        }
      ]
    },
    {
      "cell_type": "code",
      "source": [
        "x = 5\n",
        "y = 51\n",
        "\n",
        "print(x is not y)"
      ],
      "metadata": {
        "colab": {
          "base_uri": "https://localhost:8080/"
        },
        "id": "QBgmbs6ncPM-",
        "outputId": "2bc8a4e5-7b56-417d-955e-d7103955d8b3"
      },
      "execution_count": 12,
      "outputs": [
        {
          "output_type": "stream",
          "name": "stdout",
          "text": [
            "True\n"
          ]
        }
      ]
    },
    {
      "cell_type": "markdown",
      "source": [
        "6. Membership Operator\n",
        "\n",
        "in\n",
        "\n",
        "not in"
      ],
      "metadata": {
        "id": "uxq3onddcVwc"
      }
    },
    {
      "cell_type": "code",
      "source": [
        "a = 5\n",
        "b = 10\n",
        "c = [1,2,3,4,5,6]\n",
        "print(a in c)\n",
        "print(b in c)"
      ],
      "metadata": {
        "colab": {
          "base_uri": "https://localhost:8080/"
        },
        "id": "ZX3Gi-vncTIE",
        "outputId": "f969fc46-4304-4849-de7c-15d6f1c29d16"
      },
      "execution_count": 14,
      "outputs": [
        {
          "output_type": "stream",
          "name": "stdout",
          "text": [
            "True\n",
            "False\n"
          ]
        }
      ]
    },
    {
      "cell_type": "code",
      "source": [
        "a = 5\n",
        "b = 10\n",
        "c = [1,2,3,4,5,6]\n",
        "print(a not in c)\n",
        "print(b not in c)"
      ],
      "metadata": {
        "colab": {
          "base_uri": "https://localhost:8080/"
        },
        "id": "ay8OXqAGcmHC",
        "outputId": "b852a294-1ed5-4835-84ca-d04536f7e770"
      },
      "execution_count": 15,
      "outputs": [
        {
          "output_type": "stream",
          "name": "stdout",
          "text": [
            "False\n",
            "True\n"
          ]
        }
      ]
    },
    {
      "cell_type": "code",
      "source": [],
      "metadata": {
        "id": "vvY_Jdc3cpme"
      },
      "execution_count": null,
      "outputs": []
    }
  ]
}