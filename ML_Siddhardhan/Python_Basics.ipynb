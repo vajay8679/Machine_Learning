{
  "nbformat": 4,
  "nbformat_minor": 0,
  "metadata": {
    "colab": {
      "provenance": []
    },
    "kernelspec": {
      "name": "python3",
      "display_name": "Python 3"
    },
    "language_info": {
      "name": "python"
    }
  },
  "cells": [
    {
      "cell_type": "markdown",
      "source": [],
      "metadata": {
        "id": "z3Lm-4qRMQfE"
      }
    },
    {
      "cell_type": "markdown",
      "source": [
        "Programming Language used for Python\n",
        "\n",
        "Python\n",
        "\n",
        "R"
      ],
      "metadata": {
        "id": "aq9kywRlMSdt"
      }
    },
    {
      "cell_type": "markdown",
      "source": [
        "#Print Function"
      ],
      "metadata": {
        "id": "BEN8tI7FMyTs"
      }
    },
    {
      "cell_type": "code",
      "execution_count": 1,
      "metadata": {
        "colab": {
          "base_uri": "https://localhost:8080/"
        },
        "id": "OQN3h5mVMFHU",
        "outputId": "2c88a23e-bc35-44d7-c433-ae9a98e431d0"
      },
      "outputs": [
        {
          "output_type": "stream",
          "name": "stdout",
          "text": [
            "Machine Learning\n"
          ]
        }
      ],
      "source": [
        "print(\"Machine Learning\")"
      ]
    },
    {
      "cell_type": "code",
      "source": [
        "print(\"Machine Learning\" + \" Project\")"
      ],
      "metadata": {
        "colab": {
          "base_uri": "https://localhost:8080/"
        },
        "id": "iCyIdh8EM6Yo",
        "outputId": "bf91147c-d92c-4d91-abd7-809c03def0ca"
      },
      "execution_count": 2,
      "outputs": [
        {
          "output_type": "stream",
          "name": "stdout",
          "text": [
            "Machine Learning Project\n"
          ]
        }
      ]
    },
    {
      "cell_type": "code",
      "source": [
        "print(8)"
      ],
      "metadata": {
        "colab": {
          "base_uri": "https://localhost:8080/"
        },
        "id": "6f2F09rkNKeV",
        "outputId": "0e414b9d-d60d-407c-a344-40dd3cd8b445"
      },
      "execution_count": 3,
      "outputs": [
        {
          "output_type": "stream",
          "name": "stdout",
          "text": [
            "8\n"
          ]
        }
      ]
    },
    {
      "cell_type": "code",
      "source": [
        "print(7+5)"
      ],
      "metadata": {
        "colab": {
          "base_uri": "https://localhost:8080/"
        },
        "id": "9didHRGDNNwO",
        "outputId": "8bea5a92-23f3-4c5e-f94d-87bd86e7eff3"
      },
      "execution_count": 4,
      "outputs": [
        {
          "output_type": "stream",
          "name": "stdout",
          "text": [
            "12\n"
          ]
        }
      ]
    },
    {
      "cell_type": "code",
      "source": [],
      "metadata": {
        "id": "_6WHGDdhNPBq"
      },
      "execution_count": null,
      "outputs": []
    },
    {
      "cell_type": "markdown",
      "source": [
        "#Basic Data Types\n",
        "\n",
        "1. int\n",
        "2. float\n",
        "3. str"
      ],
      "metadata": {
        "id": "z8VTKww9Ni99"
      }
    },
    {
      "cell_type": "code",
      "source": [
        "type(8)"
      ],
      "metadata": {
        "colab": {
          "base_uri": "https://localhost:8080/"
        },
        "id": "m6YLc64CNpGb",
        "outputId": "21b90b65-dd6c-404f-b96d-1fe2f5dd5739"
      },
      "execution_count": 5,
      "outputs": [
        {
          "output_type": "execute_result",
          "data": {
            "text/plain": [
              "int"
            ]
          },
          "metadata": {},
          "execution_count": 5
        }
      ]
    },
    {
      "cell_type": "code",
      "source": [
        "type(8.2)"
      ],
      "metadata": {
        "colab": {
          "base_uri": "https://localhost:8080/"
        },
        "id": "7tZukWcTNsGn",
        "outputId": "90b5e522-dda9-4a7e-cb59-53db1971d9fc"
      },
      "execution_count": 6,
      "outputs": [
        {
          "output_type": "execute_result",
          "data": {
            "text/plain": [
              "float"
            ]
          },
          "metadata": {},
          "execution_count": 6
        }
      ]
    },
    {
      "cell_type": "code",
      "source": [
        "type('Hello')"
      ],
      "metadata": {
        "colab": {
          "base_uri": "https://localhost:8080/"
        },
        "id": "FpkKvEkiNttL",
        "outputId": "a7cf2e7e-7f48-46cc-923b-080cc5d724ca"
      },
      "execution_count": 7,
      "outputs": [
        {
          "output_type": "execute_result",
          "data": {
            "text/plain": [
              "str"
            ]
          },
          "metadata": {},
          "execution_count": 7
        }
      ]
    },
    {
      "cell_type": "code",
      "source": [],
      "metadata": {
        "id": "G3ov50NfNvd_"
      },
      "execution_count": null,
      "outputs": []
    },
    {
      "cell_type": "markdown",
      "source": [
        "#Constants & Variables"
      ],
      "metadata": {
        "id": "REhDLOYPN6FQ"
      }
    },
    {
      "cell_type": "code",
      "source": [
        "marvel_super_hero = \"Iron Man\"\n",
        "print(marvel_super_hero)"
      ],
      "metadata": {
        "colab": {
          "base_uri": "https://localhost:8080/"
        },
        "id": "low1ZH3GN8yy",
        "outputId": "3c769f2d-b5d6-4cd3-e183-aaf0c35140e7"
      },
      "execution_count": 8,
      "outputs": [
        {
          "output_type": "stream",
          "name": "stdout",
          "text": [
            "Iron Man\n"
          ]
        }
      ]
    },
    {
      "cell_type": "code",
      "source": [
        "marvel_super_hero = \"Captain America\"\n",
        "print(marvel_super_hero) #in variable Value can be changed and in constant value can not be changed ans alway in capital letter ex. PI"
      ],
      "metadata": {
        "colab": {
          "base_uri": "https://localhost:8080/"
        },
        "id": "ds8IXg7nO4ms",
        "outputId": "bf59b240-298a-43d5-dd94-c5609f37eb6c"
      },
      "execution_count": 9,
      "outputs": [
        {
          "output_type": "stream",
          "name": "stdout",
          "text": [
            "Captain America\n"
          ]
        }
      ]
    },
    {
      "cell_type": "code",
      "source": [
        "hero1, hero2, hero3 = \"Iron Man\", \"Captain America\", \"Bat man\"\n",
        "print(hero1)\n",
        "print(hero2)\n",
        "print(hero3)"
      ],
      "metadata": {
        "colab": {
          "base_uri": "https://localhost:8080/"
        },
        "id": "cHJBfIuNO8ki",
        "outputId": "0e613f39-c641-4362-957c-44de6c4e9570"
      },
      "execution_count": 10,
      "outputs": [
        {
          "output_type": "stream",
          "name": "stdout",
          "text": [
            "Iron Man\n",
            "Captain America\n",
            "Bat man\n"
          ]
        }
      ]
    },
    {
      "cell_type": "code",
      "source": [
        "x = y = z = 23\n",
        "print(x)\n",
        "print(y)\n",
        "print(z)"
      ],
      "metadata": {
        "colab": {
          "base_uri": "https://localhost:8080/"
        },
        "id": "_1Pb22ZdPLPl",
        "outputId": "8df12437-6412-4ef5-e28b-7b693561cc4f"
      },
      "execution_count": 11,
      "outputs": [
        {
          "output_type": "stream",
          "name": "stdout",
          "text": [
            "23\n",
            "23\n",
            "23\n"
          ]
        }
      ]
    },
    {
      "cell_type": "markdown",
      "source": [
        "#Input Function"
      ],
      "metadata": {
        "id": "KKNQNJKiQVDA"
      }
    },
    {
      "cell_type": "code",
      "source": [
        "number_1 = input(\"Enter First number :\")\n",
        "number_2 = input(\"Enter Second number :\")\n",
        "\n",
        "sum = number_1 + number_2\n",
        "print(sum)"
      ],
      "metadata": {
        "colab": {
          "base_uri": "https://localhost:8080/"
        },
        "id": "KiCA-dMTPiY1",
        "outputId": "1916f3d9-8770-46cb-ad12-1c9f40eca500"
      },
      "execution_count": 13,
      "outputs": [
        {
          "output_type": "stream",
          "name": "stdout",
          "text": [
            "Enter First number :23\n",
            "Enter Second number :23\n",
            "2323\n"
          ]
        }
      ]
    },
    {
      "cell_type": "code",
      "source": [
        "number_1 = int(input(\"Enter First number :\"))\n",
        "number_2 = int(input(\"Enter Second number :\"))\n",
        "\n",
        "sum = number_1 + number_2\n",
        "print(sum)"
      ],
      "metadata": {
        "colab": {
          "base_uri": "https://localhost:8080/"
        },
        "id": "t61qH-2kRL1H",
        "outputId": "ec1db81b-5034-4758-aa6c-366d031ae5d9"
      },
      "execution_count": 14,
      "outputs": [
        {
          "output_type": "stream",
          "name": "stdout",
          "text": [
            "Enter First number :23\n",
            "Enter Second number :23\n",
            "46\n"
          ]
        }
      ]
    },
    {
      "cell_type": "markdown",
      "source": [
        "#Changing dataype in python"
      ],
      "metadata": {
        "id": "ImnzQpTkQUPh"
      }
    },
    {
      "cell_type": "code",
      "source": [
        "x = 5\n",
        "print(float(x))"
      ],
      "metadata": {
        "colab": {
          "base_uri": "https://localhost:8080/"
        },
        "id": "CXW3NLIfRgth",
        "outputId": "b749e94b-7d9d-4c14-8dd3-1646a77338c0"
      },
      "execution_count": 15,
      "outputs": [
        {
          "output_type": "stream",
          "name": "stdout",
          "text": [
            "5.0\n"
          ]
        }
      ]
    },
    {
      "cell_type": "code",
      "source": [],
      "metadata": {
        "id": "NgHiuU-yRlWf"
      },
      "execution_count": null,
      "outputs": []
    }
  ]
}