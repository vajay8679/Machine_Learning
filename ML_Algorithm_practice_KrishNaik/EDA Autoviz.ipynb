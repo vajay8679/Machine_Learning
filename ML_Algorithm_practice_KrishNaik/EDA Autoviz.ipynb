{
 "cells": [
  {
   "cell_type": "markdown",
   "metadata": {},
   "source": [
    "# EDA Autoviz"
   ]
  },
  {
   "cell_type": "code",
   "execution_count": 1,
   "metadata": {},
   "outputs": [
    {
     "name": "stdout",
     "output_type": "stream",
     "text": [
      "Collecting autoviz\n",
      "  Downloading autoviz-0.1.905-py3-none-any.whl (67 kB)\n",
      "\u001b[K     |████████████████████████████████| 67 kB 334 kB/s eta 0:00:01\n",
      "\u001b[?25hRequirement already satisfied: typing-extensions>=4.1.1 in /home/zec/.local/lib/python3.8/site-packages (from autoviz) (4.12.2)\n",
      "Collecting emoji\n",
      "  Downloading emoji-2.14.0-py3-none-any.whl (586 kB)\n",
      "\u001b[K     |████████████████████████████████| 586 kB 1.1 MB/s eta 0:00:01\n",
      "\u001b[31mERROR: Could not find a version that satisfies the requirement panel>=1.4.0 (from autoviz) (from versions: 0.0.1, 0.3.0, 0.3.1, 0.4.0, 0.5.1, 0.6.0, 0.6.2, 0.6.3, 0.6.4, 0.7.0, 0.8.0, 0.8.1, 0.8.2, 0.8.3, 0.9.0, 0.9.1, 0.9.2, 0.9.3, 0.9.4, 0.9.5, 0.9.6, 0.9.7, 0.10.0, 0.10.1, 0.10.2, 0.10.3rc1, 0.10.3, 0.11.0b1, 0.11.0rc3, 0.11.0rc4, 0.11.0rc5, 0.11.0rc6, 0.11.0rc7, 0.11.0, 0.11.1, 0.11.2a1, 0.11.2a2, 0.11.2a3, 0.11.2a4, 0.11.2, 0.11.3, 0.12.0a1, 0.12.0a2, 0.12.0a3, 0.12.0a4, 0.12.0a5, 0.12.0a6, 0.12.0a7, 0.12.0a8, 0.12.0a9, 0.12.0a10, 0.12.0a11, 0.12.0a12, 0.12.0a13, 0.12.0a15, 0.12.0a16, 0.12.0a17, 0.12.0a18, 0.12.0a20, 0.12.0a21, 0.12.0a22, 0.12.0rc1, 0.12.0rc2, 0.12.0rc3, 0.12.0rc4, 0.12.0rc5, 0.12.0rc6, 0.12.0rc7, 0.12.0rc8, 0.12.0rc10, 0.12.0rc11, 0.12.0rc12, 0.12.0rc13, 0.12.0, 0.12.1a1, 0.12.1rc1, 0.12.1rc2, 0.12.1rc3, 0.12.1rc4, 0.12.1, 0.12.2rc1, 0.12.2, 0.12.3rc1, 0.12.3, 0.12.4rc1, 0.12.4rc2, 0.12.4rc3, 0.12.4, 0.12.5rc1, 0.12.5rc2, 0.12.5rc3, 0.12.5, 0.12.6rc1, 0.12.6rc2, 0.12.6rc3, 0.12.6, 0.12.7rc2, 0.12.7, 0.13.0a1, 0.13.0a2, 0.13.0a3, 0.13.0a4, 0.13.0a5, 0.13.0a6, 0.13.0a7, 0.13.0a8, 0.13.0a9, 0.13.0a10, 0.13.0a11, 0.13.0a12, 0.13.0a13, 0.13.0a14, 0.13.0a15, 0.13.0a16, 0.13.0a17, 0.13.0a18, 0.13.0a19, 0.13.0a20, 0.13.0a21, 0.13.0a22, 0.13.0a23, 0.13.0a24, 0.13.0a25, 0.13.0a26, 0.13.0a27, 0.13.0a28, 0.13.0a29, 0.13.0a30, 0.13.0a31, 0.13.0a32, 0.13.0a36, 0.13.0a37, 0.13.0a38, 0.13.0a39, 0.13.0a40, 0.13.0a41, 0.13.0a42, 0.13.0a43, 0.13.0a44, 0.13.0a45, 0.13.0a46, 0.13.0a47, 0.13.0rc1, 0.13.0rc2, 0.13.0rc3, 0.13.0rc4, 0.13.0rc5, 0.13.0rc6, 0.13.0rc7, 0.13.0rc8, 0.13.0rc9, 0.13.0rc10, 0.13.0rc11, 0.13.0rc12, 0.13.0, 0.13.1a1, 0.13.1a2, 0.13.1a3, 0.13.1a4, 0.13.1a5, 0.13.1a6, 0.13.1a7, 0.13.1rc1, 0.13.1rc2, 0.13.1rc3, 0.13.1, 0.14.0a1, 0.14.0a2, 0.14.0a3, 0.14.0a4, 0.14.0a6, 0.14.0a7, 0.14.0a8, 0.14.0a9, 0.14.0a10, 0.14.0a11, 0.14.0a12, 0.14.0a13, 0.14.0a14, 0.14.0a15, 0.14.0a16, 0.14.0a17, 0.14.0a18, 0.14.0a19, 0.14.0a20, 0.14.0a21, 0.14.0a22, 0.14.0a23, 0.14.0a24, 0.14.0a25, 0.14.0a26, 0.14.0rc1, 0.14.0rc2, 0.14.0rc3, 0.14.0rc4, 0.14.0rc5, 0.14.0rc6, 0.14.0, 0.14.1a1, 0.14.1a2, 0.14.1rc1, 0.14.1rc2, 0.14.1rc3, 0.14.1, 0.14.2a1, 0.14.2a5, 0.14.2a6, 0.14.2b1, 0.14.2rc1, 0.14.2rc2, 0.14.2, 0.14.3a1, 0.14.3a2, 0.14.3rc1, 0.14.3rc2, 0.14.3rc3, 0.14.3, 0.14.4rc1, 0.14.4rc2, 0.14.4, 1.0.0a1, 1.0.0a2, 1.0.0a3, 1.0.0a4, 1.0.0a5, 1.0.0b1, 1.0.0b2, 1.0.0b3, 1.0.0b4, 1.0.0b5, 1.0.0b6, 1.0.0b7, 1.0.0b8, 1.0.0b9, 1.0.0b10, 1.0.0b11, 1.0.0b12, 1.0.0b13, 1.0.0b14, 1.0.0b15, 1.0.0b16, 1.0.0b17, 1.0.0b18, 1.0.0rc1, 1.0.0rc2, 1.0.0rc3, 1.0.0rc4, 1.0.0rc5, 1.0.0rc6, 1.0.0rc7, 1.0.0rc8, 1.0.0rc9, 1.0.0rc10, 1.0.0rc11, 1.0.0, 1.0.1, 1.0.2a1, 1.0.2, 1.0.3rc1, 1.0.3, 1.0.4rc1, 1.0.4rc2, 1.0.4rc3, 1.0.4, 1.1.0rc1, 1.1.0rc2, 1.1.0, 1.1.1rc1, 1.1.1, 1.2.0a1, 1.2.0a2, 1.2.0, 1.2.1a1, 1.2.1rc1, 1.2.1, 1.2.2a1, 1.2.2a2, 1.2.2a3, 1.2.2a4, 1.2.2rc1, 1.2.2, 1.2.3rc1, 1.2.3, 1.3.0a1, 1.3.0a2, 1.3.0a3, 1.3.0a5, 1.3.0a6, 1.3.0a7, 1.3.0a8, 1.3.0a9)\u001b[0m\n",
      "\u001b[31mERROR: No matching distribution found for panel>=1.4.0 (from autoviz)\u001b[0m\n",
      "\u001b[?25h"
     ]
    }
   ],
   "source": [
    "!pip install autoviz"
   ]
  },
  {
   "cell_type": "code",
   "execution_count": 2,
   "metadata": {},
   "outputs": [],
   "source": [
    "import seaborn as sns\n"
   ]
  },
  {
   "cell_type": "code",
   "execution_count": 3,
   "metadata": {},
   "outputs": [],
   "source": [
    "df = sns.load_dataset('tips')"
   ]
  },
  {
   "cell_type": "code",
   "execution_count": 4,
   "metadata": {},
   "outputs": [
    {
     "data": {
      "text/html": [
       "<div>\n",
       "<style scoped>\n",
       "    .dataframe tbody tr th:only-of-type {\n",
       "        vertical-align: middle;\n",
       "    }\n",
       "\n",
       "    .dataframe tbody tr th {\n",
       "        vertical-align: top;\n",
       "    }\n",
       "\n",
       "    .dataframe thead th {\n",
       "        text-align: right;\n",
       "    }\n",
       "</style>\n",
       "<table border=\"1\" class=\"dataframe\">\n",
       "  <thead>\n",
       "    <tr style=\"text-align: right;\">\n",
       "      <th></th>\n",
       "      <th>total_bill</th>\n",
       "      <th>tip</th>\n",
       "      <th>sex</th>\n",
       "      <th>smoker</th>\n",
       "      <th>day</th>\n",
       "      <th>time</th>\n",
       "      <th>size</th>\n",
       "    </tr>\n",
       "  </thead>\n",
       "  <tbody>\n",
       "    <tr>\n",
       "      <th>0</th>\n",
       "      <td>16.99</td>\n",
       "      <td>1.01</td>\n",
       "      <td>Female</td>\n",
       "      <td>No</td>\n",
       "      <td>Sun</td>\n",
       "      <td>Dinner</td>\n",
       "      <td>2</td>\n",
       "    </tr>\n",
       "    <tr>\n",
       "      <th>1</th>\n",
       "      <td>10.34</td>\n",
       "      <td>1.66</td>\n",
       "      <td>Male</td>\n",
       "      <td>No</td>\n",
       "      <td>Sun</td>\n",
       "      <td>Dinner</td>\n",
       "      <td>3</td>\n",
       "    </tr>\n",
       "    <tr>\n",
       "      <th>2</th>\n",
       "      <td>21.01</td>\n",
       "      <td>3.50</td>\n",
       "      <td>Male</td>\n",
       "      <td>No</td>\n",
       "      <td>Sun</td>\n",
       "      <td>Dinner</td>\n",
       "      <td>3</td>\n",
       "    </tr>\n",
       "    <tr>\n",
       "      <th>3</th>\n",
       "      <td>23.68</td>\n",
       "      <td>3.31</td>\n",
       "      <td>Male</td>\n",
       "      <td>No</td>\n",
       "      <td>Sun</td>\n",
       "      <td>Dinner</td>\n",
       "      <td>2</td>\n",
       "    </tr>\n",
       "    <tr>\n",
       "      <th>4</th>\n",
       "      <td>24.59</td>\n",
       "      <td>3.61</td>\n",
       "      <td>Female</td>\n",
       "      <td>No</td>\n",
       "      <td>Sun</td>\n",
       "      <td>Dinner</td>\n",
       "      <td>4</td>\n",
       "    </tr>\n",
       "  </tbody>\n",
       "</table>\n",
       "</div>"
      ],
      "text/plain": [
       "   total_bill   tip     sex smoker  day    time  size\n",
       "0       16.99  1.01  Female     No  Sun  Dinner     2\n",
       "1       10.34  1.66    Male     No  Sun  Dinner     3\n",
       "2       21.01  3.50    Male     No  Sun  Dinner     3\n",
       "3       23.68  3.31    Male     No  Sun  Dinner     2\n",
       "4       24.59  3.61  Female     No  Sun  Dinner     4"
      ]
     },
     "execution_count": 4,
     "metadata": {},
     "output_type": "execute_result"
    }
   ],
   "source": [
    "df.head()"
   ]
  },
  {
   "cell_type": "code",
   "execution_count": 5,
   "metadata": {},
   "outputs": [],
   "source": [
    "df.to_csv('tips.csv')"
   ]
  },
  {
   "cell_type": "code",
   "execution_count": 4,
   "metadata": {},
   "outputs": [
    {
     "ename": "ModuleNotFoundError",
     "evalue": "No module named 'autoviz'",
     "output_type": "error",
     "traceback": [
      "\u001b[0;31m---------------------------------------------------------------------------\u001b[0m",
      "\u001b[0;31mModuleNotFoundError\u001b[0m                       Traceback (most recent call last)",
      "\u001b[0;32m<ipython-input-4-27e4fae017e1>\u001b[0m in \u001b[0;36m<module>\u001b[0;34m\u001b[0m\n\u001b[0;32m----> 1\u001b[0;31m \u001b[0;32mfrom\u001b[0m \u001b[0mautoviz\u001b[0m\u001b[0;34m.\u001b[0m\u001b[0mAutoViz_Class\u001b[0m \u001b[0;32mimport\u001b[0m \u001b[0mAutoViz_Class\u001b[0m\u001b[0;34m\u001b[0m\u001b[0;34m\u001b[0m\u001b[0m\n\u001b[0m",
      "\u001b[0;31mModuleNotFoundError\u001b[0m: No module named 'autoviz'"
     ]
    }
   ],
   "source": [
    "from autoviz.AutoViz_Class import AutoViz_Class"
   ]
  },
  {
   "cell_type": "code",
   "execution_count": 7,
   "metadata": {},
   "outputs": [
    {
     "name": "stdout",
     "output_type": "stream",
     "text": [
      "Collecting autoviz\n",
      "  Using cached autoviz-0.1.905-py3-none-any.whl (67 kB)\n",
      "Collecting fsspec>=0.8.3\n",
      "  Downloading fsspec-2024.12.0-py3-none-any.whl (183 kB)\n",
      "\u001b[K     |████████████████████████████████| 183 kB 1.0 MB/s eta 0:00:01\n",
      "\u001b[?25hCollecting holoviews>=1.16.0\n",
      "  Downloading holoviews-1.17.1-py2.py3-none-any.whl (4.3 MB)\n",
      "\u001b[K     |████████████████████████████████| 4.3 MB 3.6 MB/s eta 0:00:01\n",
      "\u001b[?25hRequirement already satisfied: matplotlib>3.7.4 in /home/zec/.local/lib/python3.8/site-packages (from autoviz) (3.7.5)\n",
      "Collecting pyamg\n",
      "  Downloading pyamg-5.1.0-cp38-cp38-manylinux_2_17_x86_64.manylinux2014_x86_64.whl (1.9 MB)\n",
      "\u001b[K     |████████████████████████████████| 1.9 MB 13.6 MB/s eta 0:00:01     |███████████████████████████▉    | 1.7 MB 13.6 MB/s eta 0:00:01\n",
      "\u001b[?25hRequirement already satisfied: scikit-learn in /home/zec/.local/lib/python3.8/site-packages (from autoviz) (1.1.3)\n",
      "Collecting emoji\n",
      "  Using cached emoji-2.14.0-py3-none-any.whl (586 kB)\n",
      "Requirement already satisfied: typing-extensions>=4.1.1 in /home/zec/.local/lib/python3.8/site-packages (from autoviz) (4.12.2)\n",
      "Requirement already satisfied: wordcloud in /home/zec/.local/lib/python3.8/site-packages (from autoviz) (1.9.4)\n",
      "Collecting xlrd\n",
      "  Downloading xlrd-2.0.1-py2.py3-none-any.whl (96 kB)\n",
      "\u001b[K     |████████████████████████████████| 96 kB 2.9 MB/s eta 0:00:01\n",
      "\u001b[?25hRequirement already satisfied: statsmodels in /home/zec/.local/lib/python3.8/site-packages (from autoviz) (0.14.1)\n",
      "Collecting pandas>=2.0\n",
      "  Using cached pandas-2.0.3-cp38-cp38-manylinux_2_17_x86_64.manylinux2014_x86_64.whl (12.4 MB)\n",
      "Collecting xgboost<1.7,>=0.82\n",
      "  Downloading xgboost-1.6.2-py3-none-manylinux2014_x86_64.whl (255.9 MB)\n",
      "\u001b[K     |████████████████████████████████| 255.9 MB 45 kB/s s eta 0:00:01    |██▉                             | 22.4 MB 10.4 MB/s eta 0:00:23     |██████████▍                     | 83.0 MB 13.6 MB/s eta 0:00:13     |█████████████████████▉          | 175.0 MB 6.3 MB/s eta 0:00:13MB/s eta 0:00:03 | 210.2 MB 231 kB/s eta 0:03:18███████████████████▎     | 210.5 MB 231 kB/s eta 0:03:17\n",
      "\u001b[?25hCollecting hvplot>=0.9.2\n",
      "  Downloading hvplot-0.10.0-py3-none-any.whl (155 kB)\n",
      "\u001b[K     |████████████████████████████████| 155 kB 4.1 MB/s eta 0:00:01\n",
      "\u001b[?25hCollecting nltk\n",
      "  Downloading nltk-3.9.1-py3-none-any.whl (1.5 MB)\n",
      "\u001b[K     |████████████████████████████████| 1.5 MB 8.8 MB/s eta 0:00:01\n",
      "\u001b[31mERROR: Could not find a version that satisfies the requirement panel>=1.4.0 (from autoviz) (from versions: 0.0.1, 0.3.0, 0.3.1, 0.4.0, 0.5.1, 0.6.0, 0.6.2, 0.6.3, 0.6.4, 0.7.0, 0.8.0, 0.8.1, 0.8.2, 0.8.3, 0.9.0, 0.9.1, 0.9.2, 0.9.3, 0.9.4, 0.9.5, 0.9.6, 0.9.7, 0.10.0, 0.10.1, 0.10.2, 0.10.3rc1, 0.10.3, 0.11.0b1, 0.11.0rc3, 0.11.0rc4, 0.11.0rc5, 0.11.0rc6, 0.11.0rc7, 0.11.0, 0.11.1, 0.11.2a1, 0.11.2a2, 0.11.2a3, 0.11.2a4, 0.11.2, 0.11.3, 0.12.0a1, 0.12.0a2, 0.12.0a3, 0.12.0a4, 0.12.0a5, 0.12.0a6, 0.12.0a7, 0.12.0a8, 0.12.0a9, 0.12.0a10, 0.12.0a11, 0.12.0a12, 0.12.0a13, 0.12.0a15, 0.12.0a16, 0.12.0a17, 0.12.0a18, 0.12.0a20, 0.12.0a21, 0.12.0a22, 0.12.0rc1, 0.12.0rc2, 0.12.0rc3, 0.12.0rc4, 0.12.0rc5, 0.12.0rc6, 0.12.0rc7, 0.12.0rc8, 0.12.0rc10, 0.12.0rc11, 0.12.0rc12, 0.12.0rc13, 0.12.0, 0.12.1a1, 0.12.1rc1, 0.12.1rc2, 0.12.1rc3, 0.12.1rc4, 0.12.1, 0.12.2rc1, 0.12.2, 0.12.3rc1, 0.12.3, 0.12.4rc1, 0.12.4rc2, 0.12.4rc3, 0.12.4, 0.12.5rc1, 0.12.5rc2, 0.12.5rc3, 0.12.5, 0.12.6rc1, 0.12.6rc2, 0.12.6rc3, 0.12.6, 0.12.7rc2, 0.12.7, 0.13.0a1, 0.13.0a2, 0.13.0a3, 0.13.0a4, 0.13.0a5, 0.13.0a6, 0.13.0a7, 0.13.0a8, 0.13.0a9, 0.13.0a10, 0.13.0a11, 0.13.0a12, 0.13.0a13, 0.13.0a14, 0.13.0a15, 0.13.0a16, 0.13.0a17, 0.13.0a18, 0.13.0a19, 0.13.0a20, 0.13.0a21, 0.13.0a22, 0.13.0a23, 0.13.0a24, 0.13.0a25, 0.13.0a26, 0.13.0a27, 0.13.0a28, 0.13.0a29, 0.13.0a30, 0.13.0a31, 0.13.0a32, 0.13.0a36, 0.13.0a37, 0.13.0a38, 0.13.0a39, 0.13.0a40, 0.13.0a41, 0.13.0a42, 0.13.0a43, 0.13.0a44, 0.13.0a45, 0.13.0a46, 0.13.0a47, 0.13.0rc1, 0.13.0rc2, 0.13.0rc3, 0.13.0rc4, 0.13.0rc5, 0.13.0rc6, 0.13.0rc7, 0.13.0rc8, 0.13.0rc9, 0.13.0rc10, 0.13.0rc11, 0.13.0rc12, 0.13.0, 0.13.1a1, 0.13.1a2, 0.13.1a3, 0.13.1a4, 0.13.1a5, 0.13.1a6, 0.13.1a7, 0.13.1rc1, 0.13.1rc2, 0.13.1rc3, 0.13.1, 0.14.0a1, 0.14.0a2, 0.14.0a3, 0.14.0a4, 0.14.0a6, 0.14.0a7, 0.14.0a8, 0.14.0a9, 0.14.0a10, 0.14.0a11, 0.14.0a12, 0.14.0a13, 0.14.0a14, 0.14.0a15, 0.14.0a16, 0.14.0a17, 0.14.0a18, 0.14.0a19, 0.14.0a20, 0.14.0a21, 0.14.0a22, 0.14.0a23, 0.14.0a24, 0.14.0a25, 0.14.0a26, 0.14.0rc1, 0.14.0rc2, 0.14.0rc3, 0.14.0rc4, 0.14.0rc5, 0.14.0rc6, 0.14.0, 0.14.1a1, 0.14.1a2, 0.14.1rc1, 0.14.1rc2, 0.14.1rc3, 0.14.1, 0.14.2a1, 0.14.2a5, 0.14.2a6, 0.14.2b1, 0.14.2rc1, 0.14.2rc2, 0.14.2, 0.14.3a1, 0.14.3a2, 0.14.3rc1, 0.14.3rc2, 0.14.3rc3, 0.14.3, 0.14.4rc1, 0.14.4rc2, 0.14.4, 1.0.0a1, 1.0.0a2, 1.0.0a3, 1.0.0a4, 1.0.0a5, 1.0.0b1, 1.0.0b2, 1.0.0b3, 1.0.0b4, 1.0.0b5, 1.0.0b6, 1.0.0b7, 1.0.0b8, 1.0.0b9, 1.0.0b10, 1.0.0b11, 1.0.0b12, 1.0.0b13, 1.0.0b14, 1.0.0b15, 1.0.0b16, 1.0.0b17, 1.0.0b18, 1.0.0rc1, 1.0.0rc2, 1.0.0rc3, 1.0.0rc4, 1.0.0rc5, 1.0.0rc6, 1.0.0rc7, 1.0.0rc8, 1.0.0rc9, 1.0.0rc10, 1.0.0rc11, 1.0.0, 1.0.1, 1.0.2a1, 1.0.2, 1.0.3rc1, 1.0.3, 1.0.4rc1, 1.0.4rc2, 1.0.4rc3, 1.0.4, 1.1.0rc1, 1.1.0rc2, 1.1.0, 1.1.1rc1, 1.1.1, 1.2.0a1, 1.2.0a2, 1.2.0, 1.2.1a1, 1.2.1rc1, 1.2.1, 1.2.2a1, 1.2.2a2, 1.2.2a3, 1.2.2a4, 1.2.2rc1, 1.2.2, 1.2.3rc1, 1.2.3, 1.3.0a1, 1.3.0a2, 1.3.0a3, 1.3.0a5, 1.3.0a6, 1.3.0a7, 1.3.0a8, 1.3.0a9)\u001b[0m\n",
      "\u001b[31mERROR: No matching distribution found for panel>=1.4.0 (from autoviz)\u001b[0m\n",
      "\u001b[?25hNote: you may need to restart the kernel to use updated packages.\n"
     ]
    }
   ],
   "source": [
    "pip install autoviz\n"
   ]
  },
  {
   "cell_type": "code",
   "execution_count": 2,
   "metadata": {},
   "outputs": [
    {
     "name": "stdout",
     "output_type": "stream",
     "text": [
      "\u001b[33mWARNING: Package(s) not found: autoviz\u001b[0m\n",
      "Note: you may need to restart the kernel to use updated packages.\n"
     ]
    }
   ],
   "source": [
    "pip show autoviz\n"
   ]
  },
  {
   "cell_type": "code",
   "execution_count": 3,
   "metadata": {},
   "outputs": [
    {
     "name": "stdout",
     "output_type": "stream",
     "text": [
      "Collecting autoviz\n",
      "  Downloading autoviz-0.1.905-py3-none-any.whl (67 kB)\n",
      "\u001b[K     |████████████████████████████████| 67 kB 353 kB/s eta 0:00:01\n",
      "\u001b[?25hCollecting pandas>=2.0\n",
      "  Downloading pandas-2.0.3-cp38-cp38-manylinux_2_17_x86_64.manylinux2014_x86_64.whl (12.4 MB)\n",
      "\u001b[K     |████████████████████████████████| 12.4 MB 6.2 MB/s eta 0:00:01\n",
      "\u001b[?25hCollecting textblob\n",
      "  Downloading textblob-0.18.0.post0-py3-none-any.whl (626 kB)\n",
      "\u001b[K     |████████████████████████████████| 626 kB 6.6 MB/s eta 0:00:01\n",
      "\u001b[?25hCollecting holoviews>=1.16.0\n",
      "  Downloading holoviews-1.17.1-py2.py3-none-any.whl (4.3 MB)\n",
      "\u001b[K     |████████████████████████████████| 4.3 MB 7.1 MB/s eta 0:00:01\n",
      "\u001b[?25hCollecting fsspec>=0.8.3\n",
      "  Downloading fsspec-2024.12.0-py3-none-any.whl (183 kB)\n",
      "\u001b[K     |████████████████████████████████| 183 kB 13.4 MB/s eta 0:00:01\n",
      "\u001b[?25hCollecting hvplot>=0.9.2\n",
      "  Downloading hvplot-0.10.0-py3-none-any.whl (155 kB)\n",
      "\u001b[K     |████████████████████████████████| 155 kB 4.6 MB/s eta 0:00:01\n",
      "\u001b[?25hRequirement already satisfied: wordcloud in /home/zec/.local/lib/python3.8/site-packages (from autoviz) (1.9.4)\n",
      "Requirement already satisfied: matplotlib>3.7.4 in /home/zec/.local/lib/python3.8/site-packages (from autoviz) (3.7.5)\n",
      "Collecting pandas-dq>=1.29\n",
      "  Downloading pandas_dq-1.29-py3-none-any.whl (29 kB)\n",
      "Collecting xgboost<1.7,>=0.82\n",
      "  Downloading xgboost-1.6.2-py3-none-manylinux2014_x86_64.whl (255.9 MB)\n",
      "\u001b[K     |████████████████████████████████| 255.9 MB 10.7 MB/s eta 0:00:01    |████████▎                       | 65.9 MB 1.3 MB/s eta 0:02:21     |████████▊                       | 69.3 MB 1.3 MB/s eta 0:02:19     |█████████▍                      | 75.2 MB 6.8 MB/s eta 0:00:27     |█████████████▌                  | 107.9 MB 13.5 MB/s eta 0:00:11��████████████████▍       | 195.1 MB 11.0 MB/s eta 0:00:06███████       | 199.6 MB 7.8 MB/s eta 0:00:08 MB 2.7 MB/s eta 0:00:18 | 216.1 MB 2.7 MB/s eta 0:00:15     |███████████████████████████▍    | 218.7 MB 11.8 MB/s eta 0:00:04     |████████████████████████████    | 224.3 MB 2.3 MB/s eta 0:00:14��█████████████████▏   | 225.0 MB 2.3 MB/s eta 0:00:14��███████████████████▍   | 227.0 MB 2.3 MB/s eta 0:00:13     |█████████████████████████████▋  | 237.1 MB 6.4 MB/s eta 0:00:03    |█████████████████████████████▊  | 237.3 MB 6.4 MB/s eta 0:00:03     |██████████████████████████████  | 239.4 MB 6.4 MB/s eta 0:00:03�█████████████▎ | 242.6 MB 9.5 MB/s eta 0:00:02     |███████████████████████████████ | 248.6 MB 9.5 MB/s eta 0:00:01\n",
      "\u001b[?25hCollecting emoji\n",
      "  Downloading emoji-2.14.0-py3-none-any.whl (586 kB)\n",
      "\u001b[K     |████████████████████████████████| 586 kB 7.7 MB/s eta 0:00:01\n",
      "\u001b[?25hCollecting nltk\n",
      "  Downloading nltk-3.9.1-py3-none-any.whl (1.5 MB)\n",
      "\u001b[K     |████████████████████████████████| 1.5 MB 6.9 MB/s eta 0:00:01     |████████████████████████████████| 1.5 MB 6.9 MB/s \n",
      "\u001b[31mERROR: Could not find a version that satisfies the requirement panel>=1.4.0 (from autoviz) (from versions: 0.0.1, 0.3.0, 0.3.1, 0.4.0, 0.5.1, 0.6.0, 0.6.2, 0.6.3, 0.6.4, 0.7.0, 0.8.0, 0.8.1, 0.8.2, 0.8.3, 0.9.0, 0.9.1, 0.9.2, 0.9.3, 0.9.4, 0.9.5, 0.9.6, 0.9.7, 0.10.0, 0.10.1, 0.10.2, 0.10.3rc1, 0.10.3, 0.11.0b1, 0.11.0rc3, 0.11.0rc4, 0.11.0rc5, 0.11.0rc6, 0.11.0rc7, 0.11.0, 0.11.1, 0.11.2a1, 0.11.2a2, 0.11.2a3, 0.11.2a4, 0.11.2, 0.11.3, 0.12.0a1, 0.12.0a2, 0.12.0a3, 0.12.0a4, 0.12.0a5, 0.12.0a6, 0.12.0a7, 0.12.0a8, 0.12.0a9, 0.12.0a10, 0.12.0a11, 0.12.0a12, 0.12.0a13, 0.12.0a15, 0.12.0a16, 0.12.0a17, 0.12.0a18, 0.12.0a20, 0.12.0a21, 0.12.0a22, 0.12.0rc1, 0.12.0rc2, 0.12.0rc3, 0.12.0rc4, 0.12.0rc5, 0.12.0rc6, 0.12.0rc7, 0.12.0rc8, 0.12.0rc10, 0.12.0rc11, 0.12.0rc12, 0.12.0rc13, 0.12.0, 0.12.1a1, 0.12.1rc1, 0.12.1rc2, 0.12.1rc3, 0.12.1rc4, 0.12.1, 0.12.2rc1, 0.12.2, 0.12.3rc1, 0.12.3, 0.12.4rc1, 0.12.4rc2, 0.12.4rc3, 0.12.4, 0.12.5rc1, 0.12.5rc2, 0.12.5rc3, 0.12.5, 0.12.6rc1, 0.12.6rc2, 0.12.6rc3, 0.12.6, 0.12.7rc2, 0.12.7, 0.13.0a1, 0.13.0a2, 0.13.0a3, 0.13.0a4, 0.13.0a5, 0.13.0a6, 0.13.0a7, 0.13.0a8, 0.13.0a9, 0.13.0a10, 0.13.0a11, 0.13.0a12, 0.13.0a13, 0.13.0a14, 0.13.0a15, 0.13.0a16, 0.13.0a17, 0.13.0a18, 0.13.0a19, 0.13.0a20, 0.13.0a21, 0.13.0a22, 0.13.0a23, 0.13.0a24, 0.13.0a25, 0.13.0a26, 0.13.0a27, 0.13.0a28, 0.13.0a29, 0.13.0a30, 0.13.0a31, 0.13.0a32, 0.13.0a36, 0.13.0a37, 0.13.0a38, 0.13.0a39, 0.13.0a40, 0.13.0a41, 0.13.0a42, 0.13.0a43, 0.13.0a44, 0.13.0a45, 0.13.0a46, 0.13.0a47, 0.13.0rc1, 0.13.0rc2, 0.13.0rc3, 0.13.0rc4, 0.13.0rc5, 0.13.0rc6, 0.13.0rc7, 0.13.0rc8, 0.13.0rc9, 0.13.0rc10, 0.13.0rc11, 0.13.0rc12, 0.13.0, 0.13.1a1, 0.13.1a2, 0.13.1a3, 0.13.1a4, 0.13.1a5, 0.13.1a6, 0.13.1a7, 0.13.1rc1, 0.13.1rc2, 0.13.1rc3, 0.13.1, 0.14.0a1, 0.14.0a2, 0.14.0a3, 0.14.0a4, 0.14.0a6, 0.14.0a7, 0.14.0a8, 0.14.0a9, 0.14.0a10, 0.14.0a11, 0.14.0a12, 0.14.0a13, 0.14.0a14, 0.14.0a15, 0.14.0a16, 0.14.0a17, 0.14.0a18, 0.14.0a19, 0.14.0a20, 0.14.0a21, 0.14.0a22, 0.14.0a23, 0.14.0a24, 0.14.0a25, 0.14.0a26, 0.14.0rc1, 0.14.0rc2, 0.14.0rc3, 0.14.0rc4, 0.14.0rc5, 0.14.0rc6, 0.14.0, 0.14.1a1, 0.14.1a2, 0.14.1rc1, 0.14.1rc2, 0.14.1rc3, 0.14.1, 0.14.2a1, 0.14.2a5, 0.14.2a6, 0.14.2b1, 0.14.2rc1, 0.14.2rc2, 0.14.2, 0.14.3a1, 0.14.3a2, 0.14.3rc1, 0.14.3rc2, 0.14.3rc3, 0.14.3, 0.14.4rc1, 0.14.4rc2, 0.14.4, 1.0.0a1, 1.0.0a2, 1.0.0a3, 1.0.0a4, 1.0.0a5, 1.0.0b1, 1.0.0b2, 1.0.0b3, 1.0.0b4, 1.0.0b5, 1.0.0b6, 1.0.0b7, 1.0.0b8, 1.0.0b9, 1.0.0b10, 1.0.0b11, 1.0.0b12, 1.0.0b13, 1.0.0b14, 1.0.0b15, 1.0.0b16, 1.0.0b17, 1.0.0b18, 1.0.0rc1, 1.0.0rc2, 1.0.0rc3, 1.0.0rc4, 1.0.0rc5, 1.0.0rc6, 1.0.0rc7, 1.0.0rc8, 1.0.0rc9, 1.0.0rc10, 1.0.0rc11, 1.0.0, 1.0.1, 1.0.2a1, 1.0.2, 1.0.3rc1, 1.0.3, 1.0.4rc1, 1.0.4rc2, 1.0.4rc3, 1.0.4, 1.1.0rc1, 1.1.0rc2, 1.1.0, 1.1.1rc1, 1.1.1, 1.2.0a1, 1.2.0a2, 1.2.0, 1.2.1a1, 1.2.1rc1, 1.2.1, 1.2.2a1, 1.2.2a2, 1.2.2a3, 1.2.2a4, 1.2.2rc1, 1.2.2, 1.2.3rc1, 1.2.3, 1.3.0a1, 1.3.0a2, 1.3.0a3, 1.3.0a5, 1.3.0a6, 1.3.0a7, 1.3.0a8, 1.3.0a9)\u001b[0m\n",
      "\u001b[31mERROR: No matching distribution found for panel>=1.4.0 (from autoviz)\u001b[0m\n",
      "\u001b[?25hNote: you may need to restart the kernel to use updated packages.\n"
     ]
    }
   ],
   "source": [
    "pip install autoviz --no-cache-dir\n"
   ]
  },
  {
   "cell_type": "code",
   "execution_count": 5,
   "metadata": {},
   "outputs": [
    {
     "name": "stdout",
     "output_type": "stream",
     "text": [
      "Collecting git+https://github.com/AutoViML/AutoViz.git\n",
      "  Cloning https://github.com/AutoViML/AutoViz.git to /tmp/pip-req-build-djqyfbiv\n",
      "  Running command git clone -q https://github.com/AutoViML/AutoViz.git /tmp/pip-req-build-djqyfbiv\n",
      "Collecting xlrd\n",
      "  Using cached xlrd-2.0.1-py2.py3-none-any.whl (96 kB)\n",
      "Requirement already satisfied: wordcloud in /home/zec/.local/lib/python3.8/site-packages (from autoviz==0.1.905) (1.9.4)\n",
      "Collecting emoji\n",
      "  Using cached emoji-2.14.0-py3-none-any.whl (586 kB)\n",
      "Collecting pyamg\n",
      "  Using cached pyamg-5.1.0-cp38-cp38-manylinux_2_17_x86_64.manylinux2014_x86_64.whl (1.9 MB)\n",
      "Requirement already satisfied: scikit-learn in /home/zec/.local/lib/python3.8/site-packages (from autoviz==0.1.905) (1.1.3)\n",
      "Requirement already satisfied: statsmodels in /home/zec/.local/lib/python3.8/site-packages (from autoviz==0.1.905) (0.14.1)\n",
      "Collecting nltk\n",
      "  Using cached nltk-3.9.1-py3-none-any.whl (1.5 MB)\n",
      "Collecting textblob\n",
      "  Using cached textblob-0.18.0.post0-py3-none-any.whl (626 kB)\n",
      "Collecting xgboost<1.7,>=0.82\n",
      "  Using cached xgboost-1.6.2-py3-none-manylinux2014_x86_64.whl (255.9 MB)\n",
      "Collecting fsspec>=0.8.3\n",
      "  Using cached fsspec-2024.12.0-py3-none-any.whl (183 kB)\n",
      "Requirement already satisfied: typing-extensions>=4.1.1 in /home/zec/.local/lib/python3.8/site-packages (from autoviz==0.1.905) (4.12.2)\n",
      "Collecting pandas-dq>=1.29\n",
      "  Using cached pandas_dq-1.29-py3-none-any.whl (29 kB)\n",
      "Requirement already satisfied: numpy>=1.24.0 in /home/zec/.local/lib/python3.8/site-packages (from autoviz==0.1.905) (1.24.4)\n",
      "Collecting hvplot>=0.9.2\n",
      "  Using cached hvplot-0.10.0-py3-none-any.whl (155 kB)\n",
      "Collecting holoviews>=1.16.0\n",
      "  Using cached holoviews-1.17.1-py2.py3-none-any.whl (4.3 MB)\n",
      "\u001b[31mERROR: Could not find a version that satisfies the requirement panel>=1.4.0 (from autoviz==0.1.905) (from versions: 0.0.1, 0.3.0, 0.3.1, 0.4.0, 0.5.1, 0.6.0, 0.6.2, 0.6.3, 0.6.4, 0.7.0, 0.8.0, 0.8.1, 0.8.2, 0.8.3, 0.9.0, 0.9.1, 0.9.2, 0.9.3, 0.9.4, 0.9.5, 0.9.6, 0.9.7, 0.10.0, 0.10.1, 0.10.2, 0.10.3rc1, 0.10.3, 0.11.0b1, 0.11.0rc3, 0.11.0rc4, 0.11.0rc5, 0.11.0rc6, 0.11.0rc7, 0.11.0, 0.11.1, 0.11.2a1, 0.11.2a2, 0.11.2a3, 0.11.2a4, 0.11.2, 0.11.3, 0.12.0a1, 0.12.0a2, 0.12.0a3, 0.12.0a4, 0.12.0a5, 0.12.0a6, 0.12.0a7, 0.12.0a8, 0.12.0a9, 0.12.0a10, 0.12.0a11, 0.12.0a12, 0.12.0a13, 0.12.0a15, 0.12.0a16, 0.12.0a17, 0.12.0a18, 0.12.0a20, 0.12.0a21, 0.12.0a22, 0.12.0rc1, 0.12.0rc2, 0.12.0rc3, 0.12.0rc4, 0.12.0rc5, 0.12.0rc6, 0.12.0rc7, 0.12.0rc8, 0.12.0rc10, 0.12.0rc11, 0.12.0rc12, 0.12.0rc13, 0.12.0, 0.12.1a1, 0.12.1rc1, 0.12.1rc2, 0.12.1rc3, 0.12.1rc4, 0.12.1, 0.12.2rc1, 0.12.2, 0.12.3rc1, 0.12.3, 0.12.4rc1, 0.12.4rc2, 0.12.4rc3, 0.12.4, 0.12.5rc1, 0.12.5rc2, 0.12.5rc3, 0.12.5, 0.12.6rc1, 0.12.6rc2, 0.12.6rc3, 0.12.6, 0.12.7rc2, 0.12.7, 0.13.0a1, 0.13.0a2, 0.13.0a3, 0.13.0a4, 0.13.0a5, 0.13.0a6, 0.13.0a7, 0.13.0a8, 0.13.0a9, 0.13.0a10, 0.13.0a11, 0.13.0a12, 0.13.0a13, 0.13.0a14, 0.13.0a15, 0.13.0a16, 0.13.0a17, 0.13.0a18, 0.13.0a19, 0.13.0a20, 0.13.0a21, 0.13.0a22, 0.13.0a23, 0.13.0a24, 0.13.0a25, 0.13.0a26, 0.13.0a27, 0.13.0a28, 0.13.0a29, 0.13.0a30, 0.13.0a31, 0.13.0a32, 0.13.0a36, 0.13.0a37, 0.13.0a38, 0.13.0a39, 0.13.0a40, 0.13.0a41, 0.13.0a42, 0.13.0a43, 0.13.0a44, 0.13.0a45, 0.13.0a46, 0.13.0a47, 0.13.0rc1, 0.13.0rc2, 0.13.0rc3, 0.13.0rc4, 0.13.0rc5, 0.13.0rc6, 0.13.0rc7, 0.13.0rc8, 0.13.0rc9, 0.13.0rc10, 0.13.0rc11, 0.13.0rc12, 0.13.0, 0.13.1a1, 0.13.1a2, 0.13.1a3, 0.13.1a4, 0.13.1a5, 0.13.1a6, 0.13.1a7, 0.13.1rc1, 0.13.1rc2, 0.13.1rc3, 0.13.1, 0.14.0a1, 0.14.0a2, 0.14.0a3, 0.14.0a4, 0.14.0a6, 0.14.0a7, 0.14.0a8, 0.14.0a9, 0.14.0a10, 0.14.0a11, 0.14.0a12, 0.14.0a13, 0.14.0a14, 0.14.0a15, 0.14.0a16, 0.14.0a17, 0.14.0a18, 0.14.0a19, 0.14.0a20, 0.14.0a21, 0.14.0a22, 0.14.0a23, 0.14.0a24, 0.14.0a25, 0.14.0a26, 0.14.0rc1, 0.14.0rc2, 0.14.0rc3, 0.14.0rc4, 0.14.0rc5, 0.14.0rc6, 0.14.0, 0.14.1a1, 0.14.1a2, 0.14.1rc1, 0.14.1rc2, 0.14.1rc3, 0.14.1, 0.14.2a1, 0.14.2a5, 0.14.2a6, 0.14.2b1, 0.14.2rc1, 0.14.2rc2, 0.14.2, 0.14.3a1, 0.14.3a2, 0.14.3rc1, 0.14.3rc2, 0.14.3rc3, 0.14.3, 0.14.4rc1, 0.14.4rc2, 0.14.4, 1.0.0a1, 1.0.0a2, 1.0.0a3, 1.0.0a4, 1.0.0a5, 1.0.0b1, 1.0.0b2, 1.0.0b3, 1.0.0b4, 1.0.0b5, 1.0.0b6, 1.0.0b7, 1.0.0b8, 1.0.0b9, 1.0.0b10, 1.0.0b11, 1.0.0b12, 1.0.0b13, 1.0.0b14, 1.0.0b15, 1.0.0b16, 1.0.0b17, 1.0.0b18, 1.0.0rc1, 1.0.0rc2, 1.0.0rc3, 1.0.0rc4, 1.0.0rc5, 1.0.0rc6, 1.0.0rc7, 1.0.0rc8, 1.0.0rc9, 1.0.0rc10, 1.0.0rc11, 1.0.0, 1.0.1, 1.0.2a1, 1.0.2, 1.0.3rc1, 1.0.3, 1.0.4rc1, 1.0.4rc2, 1.0.4rc3, 1.0.4, 1.1.0rc1, 1.1.0rc2, 1.1.0, 1.1.1rc1, 1.1.1, 1.2.0a1, 1.2.0a2, 1.2.0, 1.2.1a1, 1.2.1rc1, 1.2.1, 1.2.2a1, 1.2.2a2, 1.2.2a3, 1.2.2a4, 1.2.2rc1, 1.2.2, 1.2.3rc1, 1.2.3, 1.3.0a1, 1.3.0a2, 1.3.0a3, 1.3.0a5, 1.3.0a6, 1.3.0a7, 1.3.0a8, 1.3.0a9)\u001b[0m\n",
      "\u001b[31mERROR: No matching distribution found for panel>=1.4.0 (from autoviz==0.1.905)\u001b[0m\n",
      "Note: you may need to restart the kernel to use updated packages.\n"
     ]
    }
   ],
   "source": [
    "pip install git+https://github.com/AutoViML/AutoViz.git\n"
   ]
  },
  {
   "cell_type": "code",
   "execution_count": null,
   "metadata": {},
   "outputs": [],
   "source": []
  }
 ],
 "metadata": {
  "kernelspec": {
   "display_name": "Python 3",
   "language": "python",
   "name": "python3"
  },
  "language_info": {
   "codemirror_mode": {
    "name": "ipython",
    "version": 3
   },
   "file_extension": ".py",
   "mimetype": "text/x-python",
   "name": "python",
   "nbconvert_exporter": "python",
   "pygments_lexer": "ipython3",
   "version": "3.8.10"
  }
 },
 "nbformat": 4,
 "nbformat_minor": 4
}
